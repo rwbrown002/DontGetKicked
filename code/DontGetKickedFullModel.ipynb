{
 "cells": [
  {
   "cell_type": "markdown",
   "id": "9f1e1bb1",
   "metadata": {},
   "source": [
    "# Don't Get Kicked\n",
    "##### Predict if a car purchased at auction is a lemon\n",
    "\n",
    "Researcher: Ryan Brown\n",
    "\n",
    "Date: 2022.08.18"
   ]
  },
  {
   "cell_type": "markdown",
   "id": "44e4baaa",
   "metadata": {},
   "source": [
    "## `Import Packages & Configure Globals`"
   ]
  },
  {
   "cell_type": "code",
   "execution_count": 1,
   "id": "69db4006",
   "metadata": {},
   "outputs": [],
   "source": [
    "# package loads\n",
    "from collections import Counter\n",
    "from matplotlib.lines import Line2D\n",
    "from matplotlib import pyplot as plt\n",
    "import numpy as np\n",
    "import pandas as pd\n",
    "import random\n",
    "import re\n",
    "from sklearn.compose import ColumnTransformer, make_column_selector\n",
    "from sklearn.decomposition import PCA\n",
    "from sklearn.ensemble import RandomForestClassifier\n",
    "from sklearn.feature_selection._base import SelectorMixin\n",
    "from sklearn.feature_extraction.text import _VectorizerMixin, CountVectorizer\n",
    "from sklearn.impute import SimpleImputer\n",
    "from sklearn.linear_model import LogisticRegression\n",
    "from sklearn.metrics import accuracy_score, average_precision_score, confusion_matrix, ConfusionMatrixDisplay, \\\n",
    "                            precision_score, precision_recall_curve, recall_score, roc_auc_score, roc_curve\n",
    "from sklearn.model_selection import train_test_split\n",
    "from sklearn.neighbors import KNeighborsClassifier\n",
    "from sklearn.pipeline import FunctionTransformer, Pipeline\n",
    "from sklearn.preprocessing import OneHotEncoder, MaxAbsScaler, StandardScaler\n",
    "from sklearn.preprocessing import Binarizer, StandardScaler\n",
    "import time\n",
    "from xgboost import XGBClassifier\n",
    "\n",
    "# set all seeds to make runs deterministic\n",
    "seed = 1534\n",
    "random.seed(seed)\n",
    "np.random.seed(seed)\n",
    "\n",
    "# set globals\n",
    "raw_dir = '../data/raw'\n",
    "train_path = f'{raw_dir}/training.csv'"
   ]
  },
  {
   "cell_type": "markdown",
   "id": "338f888f",
   "metadata": {},
   "source": [
    "## `Load Data`"
   ]
  },
  {
   "cell_type": "code",
   "execution_count": 2,
   "id": "3d113f19",
   "metadata": {},
   "outputs": [],
   "source": [
    "# note -- loading train only, as test witholds target, specs only mention train\n",
    "train_raw = pd.read_csv(train_path)"
   ]
  },
  {
   "cell_type": "markdown",
   "id": "0c05cb77",
   "metadata": {},
   "source": [
    "## `Pre-Processing`\n",
    "In this section we will briefly review our data, and try to parse out any inconsistencies\n",
    "\n",
    "*Note: this is not an EDA; EDA will be conducted after a test set is withheld*"
   ]
  },
  {
   "cell_type": "code",
   "execution_count": 3,
   "id": "fc61c7a7",
   "metadata": {},
   "outputs": [
    {
     "name": "stdout",
     "output_type": "stream",
     "text": [
      "<class 'pandas.core.frame.DataFrame'>\n",
      "RangeIndex: 72983 entries, 0 to 72982\n",
      "Data columns (total 34 columns):\n",
      " #   Column                             Non-Null Count  Dtype  \n",
      "---  ------                             --------------  -----  \n",
      " 0   RefId                              72983 non-null  int64  \n",
      " 1   IsBadBuy                           72983 non-null  int64  \n",
      " 2   PurchDate                          72983 non-null  object \n",
      " 3   Auction                            72983 non-null  object \n",
      " 4   VehYear                            72983 non-null  int64  \n",
      " 5   VehicleAge                         72983 non-null  int64  \n",
      " 6   Make                               72983 non-null  object \n",
      " 7   Model                              72983 non-null  object \n",
      " 8   Trim                               70623 non-null  object \n",
      " 9   SubModel                           72975 non-null  object \n",
      " 10  Color                              72975 non-null  object \n",
      " 11  Transmission                       72974 non-null  object \n",
      " 12  WheelTypeID                        69814 non-null  float64\n",
      " 13  WheelType                          69809 non-null  object \n",
      " 14  VehOdo                             72983 non-null  int64  \n",
      " 15  Nationality                        72978 non-null  object \n",
      " 16  Size                               72978 non-null  object \n",
      " 17  TopThreeAmericanName               72978 non-null  object \n",
      " 18  MMRAcquisitionAuctionAveragePrice  72965 non-null  float64\n",
      " 19  MMRAcquisitionAuctionCleanPrice    72965 non-null  float64\n",
      " 20  MMRAcquisitionRetailAveragePrice   72965 non-null  float64\n",
      " 21  MMRAcquisitonRetailCleanPrice      72965 non-null  float64\n",
      " 22  MMRCurrentAuctionAveragePrice      72668 non-null  float64\n",
      " 23  MMRCurrentAuctionCleanPrice        72668 non-null  float64\n",
      " 24  MMRCurrentRetailAveragePrice       72668 non-null  float64\n",
      " 25  MMRCurrentRetailCleanPrice         72668 non-null  float64\n",
      " 26  PRIMEUNIT                          3419 non-null   object \n",
      " 27  AUCGUART                           3419 non-null   object \n",
      " 28  BYRNO                              72983 non-null  int64  \n",
      " 29  VNZIP1                             72983 non-null  int64  \n",
      " 30  VNST                               72983 non-null  object \n",
      " 31  VehBCost                           72983 non-null  float64\n",
      " 32  IsOnlineSale                       72983 non-null  int64  \n",
      " 33  WarrantyCost                       72983 non-null  int64  \n",
      "dtypes: float64(10), int64(9), object(15)\n",
      "memory usage: 18.9+ MB\n"
     ]
    }
   ],
   "source": [
    "# let's start by reviewing the data\n",
    "\n",
    "train_raw.info()"
   ]
  },
  {
   "cell_type": "code",
   "execution_count": 4,
   "id": "c0f98194",
   "metadata": {},
   "outputs": [],
   "source": [
    "# let's fix a few dtypes\n",
    "\n",
    "# PurchDate to datetype\n",
    "train_raw['PurchDate'] = pd.to_datetime(train_raw['PurchDate'], format='%m/%d/%Y')\n",
    "\n",
    "# BYRNO to str\n",
    "train_raw['BYRNO'] = train_raw['BYRNO'].astype(str)\n",
    "\n",
    "# PRIMEUNIT to bool\n",
    "train_raw['PRIMEUNIT'] = train_raw['PRIMEUNIT'].replace(\n",
    "    {\n",
    "        'YES':1,\n",
    "        'NO':0\n",
    "    }\n",
    ").fillna(0).astype(bool)\n",
    "\n",
    "# IsOnlineSale to bool\n",
    "train_raw['IsOnlineSale'] = train_raw['IsOnlineSale'].astype(bool)\n",
    "    \n",
    "# zip to 0 pad str\n",
    "train_raw['VNZIP1'] = train_raw['VNZIP1'].astype(str).str.zfill(5)"
   ]
  },
  {
   "cell_type": "code",
   "execution_count": 5,
   "id": "09cc2380",
   "metadata": {},
   "outputs": [
    {
     "name": "stderr",
     "output_type": "stream",
     "text": [
      "C:\\Users\\ry_w_\\AppData\\Local\\Temp\\ipykernel_17248\\3004406980.py:7: UserWarning: FixedFormatter should only be used together with FixedLocator\n",
      "  ax.set_xticklabels(labels, rotation=90)\n"
     ]
    },
    {
     "data": {
      "image/png": "[encoded data removed]",
      "text/plain": [
       "<Figure size 1080x504 with 1 Axes>"
      ]
     },
     "metadata": {
      "needs_background": "light"
     },
     "output_type": "display_data"
    }
   ],
   "source": [
    "# let's briefly look at the time distribution so we know if this will be an issue\n",
    "fig, ax = plt.subplots(figsize=(15,7))\n",
    "\n",
    "train_raw['PurchDate'].astype(np.int64).plot.hist(ax=ax, bins=20)\n",
    "labels = ax.get_xticks().tolist()\n",
    "labels = pd.to_datetime(labels).strftime('%m-%Y')\n",
    "ax.set_xticklabels(labels, rotation=90)\n",
    "ax.set_title('Purchase Date')\n",
    "plt.show()"
   ]
  },
  {
   "cell_type": "markdown",
   "id": "2b1e2e30",
   "metadata": {},
   "source": [
    "data are somewhat cyclical; we could consider additional embeddings, but given the scope, we'll just settle for categorically encoding them to less granular fields"
   ]
  },
  {
   "cell_type": "code",
   "execution_count": 6,
   "id": "3e216785",
   "metadata": {},
   "outputs": [],
   "source": [
    "# let's convert that to categoricals for year, month\n",
    "train_raw['PurchYear'], train_raw['PurchMonth'] = train_raw['PurchDate'].dt.year, train_raw['PurchDate'].dt.month\n",
    "    \n",
    "# convert year/month to strings given low cardinality\n",
    "train_raw['PurchYear'], train_raw['PurchMonth'] = train_raw['PurchYear'].astype(str), train_raw['PurchMonth'].astype(str)"
   ]
  },
  {
   "cell_type": "code",
   "execution_count": 7,
   "id": "9fbe4013",
   "metadata": {},
   "outputs": [],
   "source": [
    "# drop actual date\n",
    "train_raw = train_raw.drop(['PurchDate'], axis=1)"
   ]
  },
  {
   "cell_type": "code",
   "execution_count": 8,
   "id": "2b194416",
   "metadata": {},
   "outputs": [
    {
     "data": {
      "text/plain": [
       "1        1\n",
       "48678    1\n",
       "48684    1\n",
       "48683    1\n",
       "48682    1\n",
       "Name: RefId, dtype: int64"
      ]
     },
     "execution_count": 8,
     "metadata": {},
     "output_type": "execute_result"
    }
   ],
   "source": [
    "# let's view uniques for a few columns to assess\n",
    "\n",
    "# 1. RefId -- constant\n",
    "train_raw.RefId.value_counts()[:5]"
   ]
  },
  {
   "cell_type": "code",
   "execution_count": 9,
   "id": "9b130f0f",
   "metadata": {},
   "outputs": [
    {
     "data": {
      "text/html": [
       "<div>\n",
       "<style scoped>\n",
       "    .dataframe tbody tr th:only-of-type {\n",
       "        vertical-align: middle;\n",
       "    }\n",
       "\n",
       "    .dataframe tbody tr th {\n",
       "        vertical-align: top;\n",
       "    }\n",
       "\n",
       "    .dataframe thead th {\n",
       "        text-align: right;\n",
       "    }\n",
       "</style>\n",
       "<table border=\"1\" class=\"dataframe\">\n",
       "  <thead>\n",
       "    <tr style=\"text-align: right;\">\n",
       "      <th></th>\n",
       "      <th>WheelTypeID</th>\n",
       "      <th>WheelType</th>\n",
       "    </tr>\n",
       "  </thead>\n",
       "  <tbody>\n",
       "    <tr>\n",
       "      <th>0</th>\n",
       "      <td>1.0</td>\n",
       "      <td>Alloy</td>\n",
       "    </tr>\n",
       "    <tr>\n",
       "      <th>2</th>\n",
       "      <td>2.0</td>\n",
       "      <td>Covers</td>\n",
       "    </tr>\n",
       "    <tr>\n",
       "      <th>39</th>\n",
       "      <td>NaN</td>\n",
       "      <td>NaN</td>\n",
       "    </tr>\n",
       "    <tr>\n",
       "      <th>212</th>\n",
       "      <td>3.0</td>\n",
       "      <td>Special</td>\n",
       "    </tr>\n",
       "    <tr>\n",
       "      <th>2992</th>\n",
       "      <td>0.0</td>\n",
       "      <td>NaN</td>\n",
       "    </tr>\n",
       "  </tbody>\n",
       "</table>\n",
       "</div>"
      ],
      "text/plain": [
       "      WheelTypeID WheelType\n",
       "0             1.0     Alloy\n",
       "2             2.0    Covers\n",
       "39            NaN       NaN\n",
       "212           3.0   Special\n",
       "2992          0.0       NaN"
      ]
     },
     "execution_count": 9,
     "metadata": {},
     "output_type": "execute_result"
    }
   ],
   "source": [
    "# 2. WheelTypeID -- redundant\n",
    "train_raw[['WheelTypeID', 'WheelType']].drop_duplicates()"
   ]
  },
  {
   "cell_type": "code",
   "execution_count": 10,
   "id": "9d833fe2",
   "metadata": {},
   "outputs": [
    {
     "data": {
      "text/plain": [
       "GM--CHEVROLET         17248\n",
       "CHRYSLER--DODGE       12911\n",
       "FORD--FORD            11305\n",
       "CHRYSLER--CHRYSLER     8844\n",
       "GM--PONTIAC            4258\n",
       "OTHER--KIA             2484\n",
       "GM--SATURN             2163\n",
       "OTHER--NISSAN          2085\n",
       "OTHER--HYUNDAI         1810\n",
       "CHRYSLER--JEEP         1642\n",
       "OTHER--SUZUKI          1328\n",
       "OTHER--TOYOTA          1144\n",
       "OTHER--MITSUBISHI      1030\n",
       "OTHER--MAZDA            979\n",
       "FORD--MERCURY           913\n",
       "dtype: int64"
      ]
     },
     "execution_count": 10,
     "metadata": {},
     "output_type": "execute_result"
    }
   ],
   "source": [
    "# 3. TopThreeAmericanName -- some overlap but possibly worth keeping\n",
    "(train_raw.TopThreeAmericanName + '--' + train_raw.Make).value_counts()[:15]"
   ]
  },
  {
   "cell_type": "code",
   "execution_count": 11,
   "id": "6051b8da",
   "metadata": {},
   "outputs": [
    {
     "data": {
      "text/plain": [
       "array([[ 1.        , -0.95795707],\n",
       "       [-0.95795707,  1.        ]])"
      ]
     },
     "execution_count": 11,
     "metadata": {},
     "output_type": "execute_result"
    }
   ],
   "source": [
    "# 4. VehYear -- redundant\n",
    "np.corrcoef(train_raw.VehYear, train_raw.VehicleAge)"
   ]
  },
  {
   "cell_type": "code",
   "execution_count": 12,
   "id": "61b76368",
   "metadata": {},
   "outputs": [],
   "source": [
    "# remove a few columns that don't add predictive value\n",
    "\n",
    "train_raw = train_raw.drop(\n",
    "    columns = {\n",
    "        'RefId', # constant\n",
    "        'WheelTypeID', # redundant with WheelType\n",
    "        'VehYear' # redundant with VehicleAge\n",
    "    },\n",
    "    index=1\n",
    ")"
   ]
  },
  {
   "cell_type": "code",
   "execution_count": 13,
   "id": "e7f717a1",
   "metadata": {},
   "outputs": [
    {
     "data": {
      "text/plain": [
       "AUTO      70397\n",
       "MANUAL     2575\n",
       "Manual        1\n",
       "Name: Transmission, dtype: int64"
      ]
     },
     "execution_count": 13,
     "metadata": {},
     "output_type": "execute_result"
    }
   ],
   "source": [
    "# let's look at unique values for Transmission\n",
    "train_raw.Transmission.value_counts()"
   ]
  },
  {
   "cell_type": "code",
   "execution_count": 14,
   "id": "03e8a3d9",
   "metadata": {},
   "outputs": [],
   "source": [
    "# don't want to spend too much time parsing;\n",
    "# but to avoid the above let's convert all str to lower\n",
    "\n",
    "categoricals = train_raw.select_dtypes('object').columns\n",
    "train_raw[categoricals] = train_raw[categoricals].apply(lambda x: x.str.lower())"
   ]
  },
  {
   "cell_type": "markdown",
   "id": "cf766206",
   "metadata": {},
   "source": [
    "## `Sampling`"
   ]
  },
  {
   "cell_type": "code",
   "execution_count": 15,
   "id": "6022f716",
   "metadata": {},
   "outputs": [
    {
     "name": "stdout",
     "output_type": "stream",
     "text": [
      "train size: Counter({0: 44803, 1: 6283})\n",
      "valid size: Counter({0: 9601, 1: 1347})\n",
      "test size: Counter({0: 9602, 1: 1346})\n"
     ]
    }
   ],
   "source": [
    "# we'll start by segmenting our data into a 70-15-15 train/valid/test split;\n",
    "\n",
    "# split labels from data\n",
    "X, y = train_raw.drop(['IsBadBuy'], axis=1), train_raw.IsBadBuy\n",
    "\n",
    "# split train and test\n",
    "X_train, X_test, y_train, y_test = train_test_split(\n",
    "    X, y, test_size=0.15, random_state=seed,\n",
    "    stratify=y # stratify on target\n",
    ")\n",
    "\n",
    "# split train and test\n",
    "X_train, X_valid, y_train, y_valid = train_test_split(\n",
    "    X_train, y_train, test_size=(15/85), random_state=seed,\n",
    "    stratify=y_train # stratify on target\n",
    ")\n",
    "\n",
    "print(f'train size: {Counter(y_train)}')\n",
    "print(f'valid size: {Counter(y_valid)}')\n",
    "print(f'test size: {Counter(y_test)}')"
   ]
  },
  {
   "cell_type": "markdown",
   "id": "9caa52d1",
   "metadata": {},
   "source": [
    "## `Exploratory Analysis`"
   ]
  },
  {
   "cell_type": "code",
   "execution_count": 16,
   "id": "323624e0",
   "metadata": {},
   "outputs": [
    {
     "data": {
      "image/png": "[encoded data removed]",
      "text/plain": [
       "<Figure size 1080x648 with 2 Axes>"
      ]
     },
     "metadata": {
      "needs_background": "light"
     },
     "output_type": "display_data"
    }
   ],
   "source": [
    "# let's start by looking at a corrplot of all our features\n",
    "import seaborn as sns\n",
    "\n",
    "# Compute the correlation matrix\n",
    "corr = X_train.select_dtypes(exclude=['object', 'datetime']).corr()\n",
    "\n",
    "# Generate a mask for the upper triangle\n",
    "mask = np.triu(np.ones_like(corr, dtype=bool))\n",
    "\n",
    "# Set up the matplotlib figure\n",
    "fig, ax = plt.subplots(figsize=(15, 9))\n",
    "\n",
    "# Generate a custom diverging colormap\n",
    "cmap = sns.diverging_palette(230, 20, as_cmap=True)\n",
    "\n",
    "# Draw the heatmap with the mask and correct aspect ratio\n",
    "sns.heatmap(corr, mask=mask, annot=True, cmap=cmap, center=0,\n",
    "            square=True, linewidths=.5, cbar_kws={\"shrink\": .5})\n",
    "\n",
    "ax.set_title('Correlation Plot')\n",
    "plt.show()"
   ]
  },
  {
   "cell_type": "code",
   "execution_count": 17,
   "id": "872c8e61",
   "metadata": {},
   "outputs": [
    {
     "data": {
      "text/html": [
       "<style>#sk-container-id-1 {color: black;background-color: white;}#sk-container-id-1 pre{padding: 0;}#sk-container-id-1 div.sk-toggleable {background-color: white;}#sk-container-id-1 label.sk-toggleable__label {cursor: pointer;display: block;width: 100%;margin-bottom: 0;padding: 0.3em;box-sizing: border-box;text-align: center;}#sk-container-id-1 label.sk-toggleable__label-arrow:before {content: \"▸\";float: left;margin-right: 0.25em;color: #696969;}#sk-container-id-1 label.sk-toggleable__label-arrow:hover:before {color: black;}#sk-container-id-1 div.sk-estimator:hover label.sk-toggleable__label-arrow:before {color: black;}#sk-container-id-1 div.sk-toggleable__content {max-height: 0;max-width: 0;overflow: hidden;text-align: left;background-color: #f0f8ff;}#sk-container-id-1 div.sk-toggleable__content pre {margin: 0.2em;color: black;border-radius: 0.25em;background-color: #f0f8ff;}#sk-container-id-1 input.sk-toggleable__control:checked~div.sk-toggleable__content {max-height: 200px;max-width: 100%;overflow: auto;}#sk-container-id-1 input.sk-toggleable__control:checked~label.sk-toggleable__label-arrow:before {content: \"▾\";}#sk-container-id-1 div.sk-estimator input.sk-toggleable__control:checked~label.sk-toggleable__label {background-color: #d4ebff;}#sk-container-id-1 div.sk-label input.sk-toggleable__control:checked~label.sk-toggleable__label {background-color: #d4ebff;}#sk-container-id-1 input.sk-hidden--visually {border: 0;clip: rect(1px 1px 1px 1px);clip: rect(1px, 1px, 1px, 1px);height: 1px;margin: -1px;overflow: hidden;padding: 0;position: absolute;width: 1px;}#sk-container-id-1 div.sk-estimator {font-family: monospace;background-color: #f0f8ff;border: 1px dotted black;border-radius: 0.25em;box-sizing: border-box;margin-bottom: 0.5em;}#sk-container-id-1 div.sk-estimator:hover {background-color: #d4ebff;}#sk-container-id-1 div.sk-parallel-item::after {content: \"\";width: 100%;border-bottom: 1px solid gray;flex-grow: 1;}#sk-container-id-1 div.sk-label:hover label.sk-toggleable__label {background-color: #d4ebff;}#sk-container-id-1 div.sk-serial::before {content: \"\";position: absolute;border-left: 1px solid gray;box-sizing: border-box;top: 0;bottom: 0;left: 50%;z-index: 0;}#sk-container-id-1 div.sk-serial {display: flex;flex-direction: column;align-items: center;background-color: white;padding-right: 0.2em;padding-left: 0.2em;position: relative;}#sk-container-id-1 div.sk-item {position: relative;z-index: 1;}#sk-container-id-1 div.sk-parallel {display: flex;align-items: stretch;justify-content: center;background-color: white;position: relative;}#sk-container-id-1 div.sk-item::before, #sk-container-id-1 div.sk-parallel-item::before {content: \"\";position: absolute;border-left: 1px solid gray;box-sizing: border-box;top: 0;bottom: 0;left: 50%;z-index: -1;}#sk-container-id-1 div.sk-parallel-item {display: flex;flex-direction: column;z-index: 1;position: relative;background-color: white;}#sk-container-id-1 div.sk-parallel-item:first-child::after {align-self: flex-end;width: 50%;}#sk-container-id-1 div.sk-parallel-item:last-child::after {align-self: flex-start;width: 50%;}#sk-container-id-1 div.sk-parallel-item:only-child::after {width: 0;}#sk-container-id-1 div.sk-dashed-wrapped {border: 1px dashed gray;margin: 0 0.4em 0.5em 0.4em;box-sizing: border-box;padding-bottom: 0.4em;background-color: white;}#sk-container-id-1 div.sk-label label {font-family: monospace;font-weight: bold;display: inline-block;line-height: 1.2em;}#sk-container-id-1 div.sk-label-container {text-align: center;}#sk-container-id-1 div.sk-container {/* jupyter's `normalize.less` sets `[hidden] { display: none; }` but bootstrap.min.css set `[hidden] { display: none !important; }` so we also need the `!important` here to be able to override the default hidden behavior on the sphinx rendered scikit-learn.org. See: https://github.com/scikit-learn/scikit-learn/issues/21755 */display: inline-block !important;position: relative;}#sk-container-id-1 div.sk-text-repr-fallback {display: none;}</style><div id=\"sk-container-id-1\" class=\"sk-top-container\"><div class=\"sk-text-repr-fallback\"><pre>Pipeline(steps=[(&#x27;impute&#x27;, SimpleImputer()), (&#x27;scale&#x27;, StandardScaler()),\n",
       "                (&#x27;pca&#x27;, PCA(n_components=8, random_state=1534))])</pre><b>In a Jupyter environment, please rerun this cell to show the HTML representation or trust the notebook. <br />On GitHub, the HTML representation is unable to render, please try loading this page with nbviewer.org.</b></div><div class=\"sk-container\" hidden><div class=\"sk-item sk-dashed-wrapped\"><div class=\"sk-label-container\"><div class=\"sk-label sk-toggleable\"><input class=\"sk-toggleable__control sk-hidden--visually\" id=\"sk-estimator-id-1\" type=\"checkbox\" ><label for=\"sk-estimator-id-1\" class=\"sk-toggleable__label sk-toggleable__label-arrow\">Pipeline</label><div class=\"sk-toggleable__content\"><pre>Pipeline(steps=[(&#x27;impute&#x27;, SimpleImputer()), (&#x27;scale&#x27;, StandardScaler()),\n",
       "                (&#x27;pca&#x27;, PCA(n_components=8, random_state=1534))])</pre></div></div></div><div class=\"sk-serial\"><div class=\"sk-item\"><div class=\"sk-estimator sk-toggleable\"><input class=\"sk-toggleable__control sk-hidden--visually\" id=\"sk-estimator-id-2\" type=\"checkbox\" ><label for=\"sk-estimator-id-2\" class=\"sk-toggleable__label sk-toggleable__label-arrow\">SimpleImputer</label><div class=\"sk-toggleable__content\"><pre>SimpleImputer()</pre></div></div></div><div class=\"sk-item\"><div class=\"sk-estimator sk-toggleable\"><input class=\"sk-toggleable__control sk-hidden--visually\" id=\"sk-estimator-id-3\" type=\"checkbox\" ><label for=\"sk-estimator-id-3\" class=\"sk-toggleable__label sk-toggleable__label-arrow\">StandardScaler</label><div class=\"sk-toggleable__content\"><pre>StandardScaler()</pre></div></div></div><div class=\"sk-item\"><div class=\"sk-estimator sk-toggleable\"><input class=\"sk-toggleable__control sk-hidden--visually\" id=\"sk-estimator-id-4\" type=\"checkbox\" ><label for=\"sk-estimator-id-4\" class=\"sk-toggleable__label sk-toggleable__label-arrow\">PCA</label><div class=\"sk-toggleable__content\"><pre>PCA(n_components=8, random_state=1534)</pre></div></div></div></div></div></div></div>"
      ],
      "text/plain": [
       "Pipeline(steps=[('impute', SimpleImputer()), ('scale', StandardScaler()),\n",
       "                ('pca', PCA(n_components=8, random_state=1534))])"
      ]
     },
     "execution_count": 17,
     "metadata": {},
     "output_type": "execute_result"
    }
   ],
   "source": [
    "# let's try a PCA to reduce these heavily correlated market price features\n",
    "\n",
    "# make a pipeline to perform PCA\n",
    "pca_base_pipe = Pipeline(steps=[\n",
    "    ('impute', SimpleImputer(missing_values=np.nan, strategy='mean')), # replace missing with mean\n",
    "    ('scale', StandardScaler()), # scale\n",
    "    ('pca', PCA(n_components=8, random_state=seed))]) # pca\n",
    "\n",
    "# fit to market cols\n",
    "market_prices = [c for c in X_train.columns if re.match('^MMR.+Price$', c)]\n",
    "pca_base_pipe.fit(X_train[market_prices])"
   ]
  },
  {
   "cell_type": "code",
   "execution_count": 18,
   "id": "c2e9b065",
   "metadata": {},
   "outputs": [
    {
     "data": {
      "image/png": "[encoded data removed]",
      "text/plain": [
       "<Figure size 1080x432 with 1 Axes>"
      ]
     },
     "metadata": {
      "needs_background": "light"
     },
     "output_type": "display_data"
    }
   ],
   "source": [
    "# visualize PCA with scree plot\n",
    "\n",
    "# make plots\n",
    "fig, ax = plt.subplots(figsize=(15, 6))\n",
    "\n",
    "components = np.arange(pca_base_pipe['pca'].n_components_) + 1\n",
    "plt.plot(components, pca_base_pipe['pca'].explained_variance_ratio_, 'o-', linewidth=1)\n",
    "plt.title('Market Price PCA Scree Plot')\n",
    "plt.xlabel('Principal Component')\n",
    "plt.ylabel('Variance Explained')\n",
    "plt.show()"
   ]
  },
  {
   "cell_type": "markdown",
   "id": "cf6b6c0a",
   "metadata": {},
   "source": [
    "looks like we can capture the vast majority of the variance with one component"
   ]
  },
  {
   "cell_type": "code",
   "execution_count": 19,
   "id": "838f2d75",
   "metadata": {},
   "outputs": [
    {
     "data": {
      "text/html": [
       "<div>\n",
       "<style scoped>\n",
       "    .dataframe tbody tr th:only-of-type {\n",
       "        vertical-align: middle;\n",
       "    }\n",
       "\n",
       "    .dataframe tbody tr th {\n",
       "        vertical-align: top;\n",
       "    }\n",
       "\n",
       "    .dataframe thead th {\n",
       "        text-align: right;\n",
       "    }\n",
       "</style>\n",
       "<table border=\"1\" class=\"dataframe\">\n",
       "  <thead>\n",
       "    <tr style=\"text-align: right;\">\n",
       "      <th></th>\n",
       "      <th>index</th>\n",
       "      <th>cardinality</th>\n",
       "    </tr>\n",
       "  </thead>\n",
       "  <tbody>\n",
       "    <tr>\n",
       "      <th>0</th>\n",
       "      <td>Auction</td>\n",
       "      <td>3</td>\n",
       "    </tr>\n",
       "    <tr>\n",
       "      <th>1</th>\n",
       "      <td>Make</td>\n",
       "      <td>33</td>\n",
       "    </tr>\n",
       "    <tr>\n",
       "      <th>2</th>\n",
       "      <td>Model</td>\n",
       "      <td>1008</td>\n",
       "    </tr>\n",
       "    <tr>\n",
       "      <th>3</th>\n",
       "      <td>Trim</td>\n",
       "      <td>131</td>\n",
       "    </tr>\n",
       "    <tr>\n",
       "      <th>4</th>\n",
       "      <td>SubModel</td>\n",
       "      <td>797</td>\n",
       "    </tr>\n",
       "    <tr>\n",
       "      <th>5</th>\n",
       "      <td>Color</td>\n",
       "      <td>16</td>\n",
       "    </tr>\n",
       "    <tr>\n",
       "      <th>6</th>\n",
       "      <td>Transmission</td>\n",
       "      <td>2</td>\n",
       "    </tr>\n",
       "    <tr>\n",
       "      <th>7</th>\n",
       "      <td>WheelType</td>\n",
       "      <td>3</td>\n",
       "    </tr>\n",
       "    <tr>\n",
       "      <th>8</th>\n",
       "      <td>Nationality</td>\n",
       "      <td>4</td>\n",
       "    </tr>\n",
       "    <tr>\n",
       "      <th>9</th>\n",
       "      <td>Size</td>\n",
       "      <td>12</td>\n",
       "    </tr>\n",
       "    <tr>\n",
       "      <th>10</th>\n",
       "      <td>TopThreeAmericanName</td>\n",
       "      <td>4</td>\n",
       "    </tr>\n",
       "    <tr>\n",
       "      <th>11</th>\n",
       "      <td>AUCGUART</td>\n",
       "      <td>2</td>\n",
       "    </tr>\n",
       "    <tr>\n",
       "      <th>12</th>\n",
       "      <td>BYRNO</td>\n",
       "      <td>73</td>\n",
       "    </tr>\n",
       "    <tr>\n",
       "      <th>13</th>\n",
       "      <td>VNZIP1</td>\n",
       "      <td>152</td>\n",
       "    </tr>\n",
       "    <tr>\n",
       "      <th>14</th>\n",
       "      <td>VNST</td>\n",
       "      <td>37</td>\n",
       "    </tr>\n",
       "    <tr>\n",
       "      <th>15</th>\n",
       "      <td>PurchYear</td>\n",
       "      <td>2</td>\n",
       "    </tr>\n",
       "    <tr>\n",
       "      <th>16</th>\n",
       "      <td>PurchMonth</td>\n",
       "      <td>12</td>\n",
       "    </tr>\n",
       "  </tbody>\n",
       "</table>\n",
       "</div>"
      ],
      "text/plain": [
       "                   index  cardinality\n",
       "0                Auction            3\n",
       "1                   Make           33\n",
       "2                  Model         1008\n",
       "3                   Trim          131\n",
       "4               SubModel          797\n",
       "5                  Color           16\n",
       "6           Transmission            2\n",
       "7              WheelType            3\n",
       "8            Nationality            4\n",
       "9                   Size           12\n",
       "10  TopThreeAmericanName            4\n",
       "11              AUCGUART            2\n",
       "12                 BYRNO           73\n",
       "13                VNZIP1          152\n",
       "14                  VNST           37\n",
       "15             PurchYear            2\n",
       "16            PurchMonth           12"
      ]
     },
     "execution_count": 19,
     "metadata": {},
     "output_type": "execute_result"
    }
   ],
   "source": [
    "# switching gears to categoricals, let's look at cardinality\n",
    "\n",
    "X_train[X_train.select_dtypes('object').columns].nunique().reset_index(name='cardinality')"
   ]
  },
  {
   "cell_type": "code",
   "execution_count": 20,
   "id": "9f24bbf1",
   "metadata": {},
   "outputs": [
    {
     "data": {
      "text/plain": [
       "4d sedan            10642\n",
       "4d sedan ls          3293\n",
       "4d sedan se          2716\n",
       "4d wagon             1571\n",
       "minivan 3.3l          867\n",
       "4d suv 4.2l ls        846\n",
       "4d sedan lt           798\n",
       "4d sedan sxt ffv      766\n",
       "4d sedan lx           760\n",
       "2d coupe              739\n",
       "Name: SubModel, dtype: int64"
      ]
     },
     "execution_count": 20,
     "metadata": {},
     "output_type": "execute_result"
    }
   ],
   "source": [
    "# for most of these, we will restrict OHE to most frequent, but model and submodel we will try word vectors\n",
    "\n",
    "X_train['SubModel'].value_counts()[:10]"
   ]
  },
  {
   "cell_type": "code",
   "execution_count": 21,
   "id": "c7c6336e",
   "metadata": {},
   "outputs": [
    {
     "data": {
      "text/plain": [
       "pt cruiser              1603\n",
       "impala                  1403\n",
       "taurus                   985\n",
       "caliber                  980\n",
       "caravan grand fwd v6     878\n",
       "malibu 4c                872\n",
       "sebring 4c               817\n",
       "taurus 3.0l v6 efi       810\n",
       "pt cruiser 2.4l i4 s     780\n",
       "1500 ram pickup 2wd      778\n",
       "Name: Model, dtype: int64"
      ]
     },
     "execution_count": 21,
     "metadata": {},
     "output_type": "execute_result"
    }
   ],
   "source": [
    "X_train['Model'].value_counts()[:10]"
   ]
  },
  {
   "cell_type": "markdown",
   "id": "3fc72ab8",
   "metadata": {},
   "source": [
    "## `Modeling`"
   ]
  },
  {
   "cell_type": "code",
   "execution_count": 22,
   "id": "bd477575",
   "metadata": {},
   "outputs": [
    {
     "data": {
      "image/png": "[encoded data removed]",
      "text/plain": [
       "<Figure size 720x576 with 1 Axes>"
      ]
     },
     "metadata": {
      "needs_background": "light"
     },
     "output_type": "display_data"
    }
   ],
   "source": [
    "# examine class imbalance\n",
    "\n",
    "y_train.value_counts(normalize=True).plot(kind='bar', title='Class Imbalance', figsize=(10,8))\n",
    "plt.show()"
   ]
  },
  {
   "cell_type": "code",
   "execution_count": 23,
   "id": "32f22034",
   "metadata": {},
   "outputs": [
    {
     "data": {
      "text/plain": [
       "{1: 7.130829221709374, 0: 1}"
      ]
     },
     "execution_count": 23,
     "metadata": {},
     "output_type": "execute_result"
    }
   ],
   "source": [
    "# calculate class weights to apply to loss to prevent bias towards majority class\n",
    "\n",
    "n_pos = len(y_train[y_train==1])\n",
    "n_neg = len(y_train[y_train==0])\n",
    "n_tot = n_pos + n_neg\n",
    "n_classes = 2\n",
    "\n",
    "# weigh by inverse class occurence\n",
    "# scaling by total/n_classes helps keep loss to similar magnitude\n",
    "# inspired by Logistic Regression in Rare Events Data; King, Zen, 2001. (https://gking.harvard.edu/files/0s.pdf)\n",
    "weight_pos = (1/n_pos) * (n_tot/n_classes)\n",
    "weight_neg = (1/n_neg) * (n_tot/n_classes)\n",
    "\n",
    "# adjust scale so neg class has weight of 1; compatible with xgb scale_pos_weight\n",
    "pos_weight_ratio = weight_pos/weight_neg\n",
    "\n",
    "class_weight = {\n",
    "    1: pos_weight_ratio*1,\n",
    "    0: 1\n",
    "}\n",
    "\n",
    "class_weight"
   ]
  },
  {
   "cell_type": "code",
   "execution_count": 24,
   "id": "16d1ea5c",
   "metadata": {},
   "outputs": [],
   "source": [
    "# define functions to build classifier pipeline\n",
    "\n",
    "def make_vectorizer(max_features=50):\n",
    "    \"\"\" return vectorization pipe \"\"\"\n",
    "    vec_pipe = Pipeline(\n",
    "        steps=[\n",
    "            ('replace_na', SimpleImputer(strategy='constant', fill_value='')),\n",
    "            ('flatten', FunctionTransformer(np.reshape, kw_args={'newshape':-1})),\n",
    "            ('count_vectorizer', CountVectorizer(analyzer='word', max_features=max_features, binary=True))\n",
    "        ]\n",
    "    )\n",
    "    \n",
    "    return vec_pipe\n",
    "\n",
    "def build_preprocesser():\n",
    "    \"\"\" \n",
    "    function to build and return preprocessing pipeline\n",
    "    \"\"\"\n",
    "    model_vec_pipe = make_vectorizer()\n",
    "\n",
    "    submodel_vec_pipe = make_vectorizer()\n",
    "\n",
    "    # build out new pca pipe based on earlier study\n",
    "    pca_pipe = Pipeline(\n",
    "        steps=[\n",
    "            ('impute', SimpleImputer(missing_values=np.nan, strategy='mean')), # replace missing with mean\n",
    "            ('scale', StandardScaler()), # scale\n",
    "            ('pca', PCA(n_components=1, random_state=seed)) # pca; set to 1 based on scree study\n",
    "        ]\n",
    "    )\n",
    "\n",
    "    # build out full transformer\n",
    "    preprocessing_ct = ColumnTransformer(\n",
    "        transformers=[\n",
    "            ('median_imputer', SimpleImputer(missing_values=np.nan, strategy='median'), # median impute for discrete\n",
    "             make_column_selector(dtype_include='int64')), # age, odo, and warranty cost are the only ints\n",
    "            ('mean_imputer', SimpleImputer(missing_values=np.nan, strategy='mean'), # mean impute desired floats\n",
    "             ['VehBCost']), # apply this explicity for veh buy, PCA pipe will handle market prices\n",
    "            ('binarizer', Binarizer(), # bool to ints\n",
    "             make_column_selector(dtype_include='bool')),\n",
    "            ('mmr_price_pca',  pca_pipe, # this will be our pca layer\n",
    "             make_column_selector(pattern='^MMR.+Price')), # only select MMR prices\n",
    "            ('ohe', OneHotEncoder(drop='first', min_frequency=30, handle_unknown='infrequent_if_exist', \n",
    "                                  max_categories=50), # reg here to prevent overfitting\n",
    "             list(set(X_train.select_dtypes('object').columns)-{'Model', 'SubModel'})), # want cats but vec will handle models\n",
    "            ('model_vec',  model_vec_pipe, # this will vectorize car model\n",
    "             ['Model']), # only select Model\n",
    "            ('submodel_vec',  submodel_vec_pipe, # this will vectorize car submodel\n",
    "             ['SubModel'])\n",
    "        ],\n",
    "        remainder='passthrough'\n",
    "    )\n",
    "    \n",
    "    preprocessing_pipe = Pipeline(\n",
    "        steps=[\n",
    "            ('preprocess', preprocessing_ct), # apply preprocessing\n",
    "            ('scale_all', MaxAbsScaler()) # scale all again to collect any previously unscaled\n",
    "        ]\n",
    "    )\n",
    "    \n",
    "    return preprocessing_pipe\n",
    "\n",
    "\n",
    "def build_classifier(clf):\n",
    "    \"\"\" \n",
    "    function to build and return classification pipeline \n",
    "    \n",
    "    parameters:\n",
    "        preprocessing_pipe: fit preprocesser\n",
    "        clf: classifier to test\n",
    "    returns:\n",
    "        model_pipe: clf pipeline\n",
    "    \n",
    "    \"\"\"\n",
    "\n",
    "    # build out the model pipe to allow space for additional modeling layers\n",
    "    model_pipe = Pipeline(\n",
    "        steps=[\n",
    "            ('cf', clf) # classify\n",
    "        ]\n",
    "    )\n",
    "    \n",
    "    return model_pipe\n"
   ]
  },
  {
   "cell_type": "code",
   "execution_count": 25,
   "id": "835b3c01",
   "metadata": {},
   "outputs": [],
   "source": [
    "# let's define our eval measures\n",
    "\n",
    "# define kaggle comp eval measure\n",
    "def gini_score(y_true, y_score):\n",
    "    \"\"\" function to return kaggle gini eval measure \"\"\"\n",
    "    all_ = np.asarray(np.c_[y_true, y_score, np.arange(len(y_true))], \n",
    "                      dtype=np.float64)\n",
    "    all_ = all_[np.lexsort((all_[:,2], -1*all_[:,1]))]\n",
    "    totalLosses = all_[:,0].sum()\n",
    "    giniSum = all_[:,0].cumsum().sum() / totalLosses\n",
    "\n",
    "    giniSum -= (len(y_true) + 1) / 2.\n",
    "    return giniSum / len(y_true)\n",
    "\n",
    "def minimize_gini_score(y_true, y_score):\n",
    "    \"\"\" xgb only accepts min=good eval metrics \"\"\"\n",
    "    return 1-gini_score(y_true, y_score)\n",
    "\n",
    "# define scores to test\n",
    "scoring = {\n",
    "    'accuracy': (accuracy_score, 'preds'),\n",
    "    'precision': (precision_score, 'preds'),\n",
    "    'recall': (recall_score, 'preds'),\n",
    "    'auc roc': (roc_auc_score, 'probs'),\n",
    "    'avg. precision': (average_precision_score, 'probs'),\n",
    "    'gini index': (gini_score, 'probs')\n",
    "}"
   ]
  },
  {
   "cell_type": "code",
   "execution_count": 26,
   "id": "be4bf5ef",
   "metadata": {},
   "outputs": [
    {
     "data": {
      "text/html": [
       "<style>#sk-container-id-2 {color: black;background-color: white;}#sk-container-id-2 pre{padding: 0;}#sk-container-id-2 div.sk-toggleable {background-color: white;}#sk-container-id-2 label.sk-toggleable__label {cursor: pointer;display: block;width: 100%;margin-bottom: 0;padding: 0.3em;box-sizing: border-box;text-align: center;}#sk-container-id-2 label.sk-toggleable__label-arrow:before {content: \"▸\";float: left;margin-right: 0.25em;color: #696969;}#sk-container-id-2 label.sk-toggleable__label-arrow:hover:before {color: black;}#sk-container-id-2 div.sk-estimator:hover label.sk-toggleable__label-arrow:before {color: black;}#sk-container-id-2 div.sk-toggleable__content {max-height: 0;max-width: 0;overflow: hidden;text-align: left;background-color: #f0f8ff;}#sk-container-id-2 div.sk-toggleable__content pre {margin: 0.2em;color: black;border-radius: 0.25em;background-color: #f0f8ff;}#sk-container-id-2 input.sk-toggleable__control:checked~div.sk-toggleable__content {max-height: 200px;max-width: 100%;overflow: auto;}#sk-container-id-2 input.sk-toggleable__control:checked~label.sk-toggleable__label-arrow:before {content: \"▾\";}#sk-container-id-2 div.sk-estimator input.sk-toggleable__control:checked~label.sk-toggleable__label {background-color: #d4ebff;}#sk-container-id-2 div.sk-label input.sk-toggleable__control:checked~label.sk-toggleable__label {background-color: #d4ebff;}#sk-container-id-2 input.sk-hidden--visually {border: 0;clip: rect(1px 1px 1px 1px);clip: rect(1px, 1px, 1px, 1px);height: 1px;margin: -1px;overflow: hidden;padding: 0;position: absolute;width: 1px;}#sk-container-id-2 div.sk-estimator {font-family: monospace;background-color: #f0f8ff;border: 1px dotted black;border-radius: 0.25em;box-sizing: border-box;margin-bottom: 0.5em;}#sk-container-id-2 div.sk-estimator:hover {background-color: #d4ebff;}#sk-container-id-2 div.sk-parallel-item::after {content: \"\";width: 100%;border-bottom: 1px solid gray;flex-grow: 1;}#sk-container-id-2 div.sk-label:hover label.sk-toggleable__label {background-color: #d4ebff;}#sk-container-id-2 div.sk-serial::before {content: \"\";position: absolute;border-left: 1px solid gray;box-sizing: border-box;top: 0;bottom: 0;left: 50%;z-index: 0;}#sk-container-id-2 div.sk-serial {display: flex;flex-direction: column;align-items: center;background-color: white;padding-right: 0.2em;padding-left: 0.2em;position: relative;}#sk-container-id-2 div.sk-item {position: relative;z-index: 1;}#sk-container-id-2 div.sk-parallel {display: flex;align-items: stretch;justify-content: center;background-color: white;position: relative;}#sk-container-id-2 div.sk-item::before, #sk-container-id-2 div.sk-parallel-item::before {content: \"\";position: absolute;border-left: 1px solid gray;box-sizing: border-box;top: 0;bottom: 0;left: 50%;z-index: -1;}#sk-container-id-2 div.sk-parallel-item {display: flex;flex-direction: column;z-index: 1;position: relative;background-color: white;}#sk-container-id-2 div.sk-parallel-item:first-child::after {align-self: flex-end;width: 50%;}#sk-container-id-2 div.sk-parallel-item:last-child::after {align-self: flex-start;width: 50%;}#sk-container-id-2 div.sk-parallel-item:only-child::after {width: 0;}#sk-container-id-2 div.sk-dashed-wrapped {border: 1px dashed gray;margin: 0 0.4em 0.5em 0.4em;box-sizing: border-box;padding-bottom: 0.4em;background-color: white;}#sk-container-id-2 div.sk-label label {font-family: monospace;font-weight: bold;display: inline-block;line-height: 1.2em;}#sk-container-id-2 div.sk-label-container {text-align: center;}#sk-container-id-2 div.sk-container {/* jupyter's `normalize.less` sets `[hidden] { display: none; }` but bootstrap.min.css set `[hidden] { display: none !important; }` so we also need the `!important` here to be able to override the default hidden behavior on the sphinx rendered scikit-learn.org. See: https://github.com/scikit-learn/scikit-learn/issues/21755 */display: inline-block !important;position: relative;}#sk-container-id-2 div.sk-text-repr-fallback {display: none;}</style><div id=\"sk-container-id-2\" class=\"sk-top-container\"><div class=\"sk-text-repr-fallback\"><pre>Pipeline(steps=[(&#x27;preprocess&#x27;,\n",
       "                 ColumnTransformer(remainder=&#x27;passthrough&#x27;,\n",
       "                                   transformers=[(&#x27;median_imputer&#x27;,\n",
       "                                                  SimpleImputer(strategy=&#x27;median&#x27;),\n",
       "                                                  &lt;sklearn.compose._column_transformer.make_column_selector object at 0x0000029D1CAEAB30&gt;),\n",
       "                                                 (&#x27;mean_imputer&#x27;,\n",
       "                                                  SimpleImputer(),\n",
       "                                                  [&#x27;VehBCost&#x27;]),\n",
       "                                                 (&#x27;binarizer&#x27;, Binarizer(),\n",
       "                                                  &lt;sklearn.compose._column_transformer.make_column_selecto...\n",
       "                                                                   CountVectorizer(binary=True,\n",
       "                                                                                   max_features=50))]),\n",
       "                                                  [&#x27;Model&#x27;]),\n",
       "                                                 (&#x27;submodel_vec&#x27;,\n",
       "                                                  Pipeline(steps=[(&#x27;replace_na&#x27;,\n",
       "                                                                   SimpleImputer(fill_value=&#x27;&#x27;,\n",
       "                                                                                 strategy=&#x27;constant&#x27;)),\n",
       "                                                                  (&#x27;flatten&#x27;,\n",
       "                                                                   FunctionTransformer(func=&lt;function reshape at 0x0000029D70F59750&gt;,\n",
       "                                                                                       kw_args={&#x27;newshape&#x27;: -1})),\n",
       "                                                                  (&#x27;count_vectorizer&#x27;,\n",
       "                                                                   CountVectorizer(binary=True,\n",
       "                                                                                   max_features=50))]),\n",
       "                                                  [&#x27;SubModel&#x27;])])),\n",
       "                (&#x27;scale_all&#x27;, MaxAbsScaler())])</pre><b>In a Jupyter environment, please rerun this cell to show the HTML representation or trust the notebook. <br />On GitHub, the HTML representation is unable to render, please try loading this page with nbviewer.org.</b></div><div class=\"sk-container\" hidden><div class=\"sk-item sk-dashed-wrapped\"><div class=\"sk-label-container\"><div class=\"sk-label sk-toggleable\"><input class=\"sk-toggleable__control sk-hidden--visually\" id=\"sk-estimator-id-5\" type=\"checkbox\" ><label for=\"sk-estimator-id-5\" class=\"sk-toggleable__label sk-toggleable__label-arrow\">Pipeline</label><div class=\"sk-toggleable__content\"><pre>Pipeline(steps=[(&#x27;preprocess&#x27;,\n",
       "                 ColumnTransformer(remainder=&#x27;passthrough&#x27;,\n",
       "                                   transformers=[(&#x27;median_imputer&#x27;,\n",
       "                                                  SimpleImputer(strategy=&#x27;median&#x27;),\n",
       "                                                  &lt;sklearn.compose._column_transformer.make_column_selector object at 0x0000029D1CAEAB30&gt;),\n",
       "                                                 (&#x27;mean_imputer&#x27;,\n",
       "                                                  SimpleImputer(),\n",
       "                                                  [&#x27;VehBCost&#x27;]),\n",
       "                                                 (&#x27;binarizer&#x27;, Binarizer(),\n",
       "                                                  &lt;sklearn.compose._column_transformer.make_column_selecto...\n",
       "                                                                   CountVectorizer(binary=True,\n",
       "                                                                                   max_features=50))]),\n",
       "                                                  [&#x27;Model&#x27;]),\n",
       "                                                 (&#x27;submodel_vec&#x27;,\n",
       "                                                  Pipeline(steps=[(&#x27;replace_na&#x27;,\n",
       "                                                                   SimpleImputer(fill_value=&#x27;&#x27;,\n",
       "                                                                                 strategy=&#x27;constant&#x27;)),\n",
       "                                                                  (&#x27;flatten&#x27;,\n",
       "                                                                   FunctionTransformer(func=&lt;function reshape at 0x0000029D70F59750&gt;,\n",
       "                                                                                       kw_args={&#x27;newshape&#x27;: -1})),\n",
       "                                                                  (&#x27;count_vectorizer&#x27;,\n",
       "                                                                   CountVectorizer(binary=True,\n",
       "                                                                                   max_features=50))]),\n",
       "                                                  [&#x27;SubModel&#x27;])])),\n",
       "                (&#x27;scale_all&#x27;, MaxAbsScaler())])</pre></div></div></div><div class=\"sk-serial\"><div class=\"sk-item sk-dashed-wrapped\"><div class=\"sk-label-container\"><div class=\"sk-label sk-toggleable\"><input class=\"sk-toggleable__control sk-hidden--visually\" id=\"sk-estimator-id-6\" type=\"checkbox\" ><label for=\"sk-estimator-id-6\" class=\"sk-toggleable__label sk-toggleable__label-arrow\">preprocess: ColumnTransformer</label><div class=\"sk-toggleable__content\"><pre>ColumnTransformer(remainder=&#x27;passthrough&#x27;,\n",
       "                  transformers=[(&#x27;median_imputer&#x27;,\n",
       "                                 SimpleImputer(strategy=&#x27;median&#x27;),\n",
       "                                 &lt;sklearn.compose._column_transformer.make_column_selector object at 0x0000029D1CAEAB30&gt;),\n",
       "                                (&#x27;mean_imputer&#x27;, SimpleImputer(), [&#x27;VehBCost&#x27;]),\n",
       "                                (&#x27;binarizer&#x27;, Binarizer(),\n",
       "                                 &lt;sklearn.compose._column_transformer.make_column_selector object at 0x0000029D1CAE8730&gt;),...\n",
       "                                                 (&#x27;count_vectorizer&#x27;,\n",
       "                                                  CountVectorizer(binary=True,\n",
       "                                                                  max_features=50))]),\n",
       "                                 [&#x27;Model&#x27;]),\n",
       "                                (&#x27;submodel_vec&#x27;,\n",
       "                                 Pipeline(steps=[(&#x27;replace_na&#x27;,\n",
       "                                                  SimpleImputer(fill_value=&#x27;&#x27;,\n",
       "                                                                strategy=&#x27;constant&#x27;)),\n",
       "                                                 (&#x27;flatten&#x27;,\n",
       "                                                  FunctionTransformer(func=&lt;function reshape at 0x0000029D70F59750&gt;,\n",
       "                                                                      kw_args={&#x27;newshape&#x27;: -1})),\n",
       "                                                 (&#x27;count_vectorizer&#x27;,\n",
       "                                                  CountVectorizer(binary=True,\n",
       "                                                                  max_features=50))]),\n",
       "                                 [&#x27;SubModel&#x27;])])</pre></div></div></div><div class=\"sk-parallel\"><div class=\"sk-parallel-item\"><div class=\"sk-item\"><div class=\"sk-label-container\"><div class=\"sk-label sk-toggleable\"><input class=\"sk-toggleable__control sk-hidden--visually\" id=\"sk-estimator-id-7\" type=\"checkbox\" ><label for=\"sk-estimator-id-7\" class=\"sk-toggleable__label sk-toggleable__label-arrow\">median_imputer</label><div class=\"sk-toggleable__content\"><pre>&lt;sklearn.compose._column_transformer.make_column_selector object at 0x0000029D1CAEAB30&gt;</pre></div></div></div><div class=\"sk-serial\"><div class=\"sk-item\"><div class=\"sk-estimator sk-toggleable\"><input class=\"sk-toggleable__control sk-hidden--visually\" id=\"sk-estimator-id-8\" type=\"checkbox\" ><label for=\"sk-estimator-id-8\" class=\"sk-toggleable__label sk-toggleable__label-arrow\">SimpleImputer</label><div class=\"sk-toggleable__content\"><pre>SimpleImputer(strategy=&#x27;median&#x27;)</pre></div></div></div></div></div></div><div class=\"sk-parallel-item\"><div class=\"sk-item\"><div class=\"sk-label-container\"><div class=\"sk-label sk-toggleable\"><input class=\"sk-toggleable__control sk-hidden--visually\" id=\"sk-estimator-id-9\" type=\"checkbox\" ><label for=\"sk-estimator-id-9\" class=\"sk-toggleable__label sk-toggleable__label-arrow\">mean_imputer</label><div class=\"sk-toggleable__content\"><pre>[&#x27;VehBCost&#x27;]</pre></div></div></div><div class=\"sk-serial\"><div class=\"sk-item\"><div class=\"sk-estimator sk-toggleable\"><input class=\"sk-toggleable__control sk-hidden--visually\" id=\"sk-estimator-id-10\" type=\"checkbox\" ><label for=\"sk-estimator-id-10\" class=\"sk-toggleable__label sk-toggleable__label-arrow\">SimpleImputer</label><div class=\"sk-toggleable__content\"><pre>SimpleImputer()</pre></div></div></div></div></div></div><div class=\"sk-parallel-item\"><div class=\"sk-item\"><div class=\"sk-label-container\"><div class=\"sk-label sk-toggleable\"><input class=\"sk-toggleable__control sk-hidden--visually\" id=\"sk-estimator-id-11\" type=\"checkbox\" ><label for=\"sk-estimator-id-11\" class=\"sk-toggleable__label sk-toggleable__label-arrow\">binarizer</label><div class=\"sk-toggleable__content\"><pre>&lt;sklearn.compose._column_transformer.make_column_selector object at 0x0000029D1CAE8730&gt;</pre></div></div></div><div class=\"sk-serial\"><div class=\"sk-item\"><div class=\"sk-estimator sk-toggleable\"><input class=\"sk-toggleable__control sk-hidden--visually\" id=\"sk-estimator-id-12\" type=\"checkbox\" ><label for=\"sk-estimator-id-12\" class=\"sk-toggleable__label sk-toggleable__label-arrow\">Binarizer</label><div class=\"sk-toggleable__content\"><pre>Binarizer()</pre></div></div></div></div></div></div><div class=\"sk-parallel-item\"><div class=\"sk-item\"><div class=\"sk-label-container\"><div class=\"sk-label sk-toggleable\"><input class=\"sk-toggleable__control sk-hidden--visually\" id=\"sk-estimator-id-13\" type=\"checkbox\" ><label for=\"sk-estimator-id-13\" class=\"sk-toggleable__label sk-toggleable__label-arrow\">mmr_price_pca</label><div class=\"sk-toggleable__content\"><pre>&lt;sklearn.compose._column_transformer.make_column_selector object at 0x0000029D1CAE86A0&gt;</pre></div></div></div><div class=\"sk-serial\"><div class=\"sk-item\"><div class=\"sk-serial\"><div class=\"sk-item\"><div class=\"sk-estimator sk-toggleable\"><input class=\"sk-toggleable__control sk-hidden--visually\" id=\"sk-estimator-id-14\" type=\"checkbox\" ><label for=\"sk-estimator-id-14\" class=\"sk-toggleable__label sk-toggleable__label-arrow\">SimpleImputer</label><div class=\"sk-toggleable__content\"><pre>SimpleImputer()</pre></div></div></div><div class=\"sk-item\"><div class=\"sk-estimator sk-toggleable\"><input class=\"sk-toggleable__control sk-hidden--visually\" id=\"sk-estimator-id-15\" type=\"checkbox\" ><label for=\"sk-estimator-id-15\" class=\"sk-toggleable__label sk-toggleable__label-arrow\">StandardScaler</label><div class=\"sk-toggleable__content\"><pre>StandardScaler()</pre></div></div></div><div class=\"sk-item\"><div class=\"sk-estimator sk-toggleable\"><input class=\"sk-toggleable__control sk-hidden--visually\" id=\"sk-estimator-id-16\" type=\"checkbox\" ><label for=\"sk-estimator-id-16\" class=\"sk-toggleable__label sk-toggleable__label-arrow\">PCA</label><div class=\"sk-toggleable__content\"><pre>PCA(n_components=1, random_state=1534)</pre></div></div></div></div></div></div></div></div><div class=\"sk-parallel-item\"><div class=\"sk-item\"><div class=\"sk-label-container\"><div class=\"sk-label sk-toggleable\"><input class=\"sk-toggleable__control sk-hidden--visually\" id=\"sk-estimator-id-17\" type=\"checkbox\" ><label for=\"sk-estimator-id-17\" class=\"sk-toggleable__label sk-toggleable__label-arrow\">ohe</label><div class=\"sk-toggleable__content\"><pre>[&#x27;Color&#x27;, &#x27;TopThreeAmericanName&#x27;, &#x27;PurchMonth&#x27;, &#x27;BYRNO&#x27;, &#x27;Make&#x27;, &#x27;AUCGUART&#x27;, &#x27;PurchYear&#x27;, &#x27;Trim&#x27;, &#x27;WheelType&#x27;, &#x27;Auction&#x27;, &#x27;VNZIP1&#x27;, &#x27;Transmission&#x27;, &#x27;Nationality&#x27;, &#x27;Size&#x27;, &#x27;VNST&#x27;]</pre></div></div></div><div class=\"sk-serial\"><div class=\"sk-item\"><div class=\"sk-estimator sk-toggleable\"><input class=\"sk-toggleable__control sk-hidden--visually\" id=\"sk-estimator-id-18\" type=\"checkbox\" ><label for=\"sk-estimator-id-18\" class=\"sk-toggleable__label sk-toggleable__label-arrow\">OneHotEncoder</label><div class=\"sk-toggleable__content\"><pre>OneHotEncoder(drop=&#x27;first&#x27;, handle_unknown=&#x27;infrequent_if_exist&#x27;,\n",
       "              max_categories=50, min_frequency=30)</pre></div></div></div></div></div></div><div class=\"sk-parallel-item\"><div class=\"sk-item\"><div class=\"sk-label-container\"><div class=\"sk-label sk-toggleable\"><input class=\"sk-toggleable__control sk-hidden--visually\" id=\"sk-estimator-id-19\" type=\"checkbox\" ><label for=\"sk-estimator-id-19\" class=\"sk-toggleable__label sk-toggleable__label-arrow\">model_vec</label><div class=\"sk-toggleable__content\"><pre>[&#x27;Model&#x27;]</pre></div></div></div><div class=\"sk-serial\"><div class=\"sk-item\"><div class=\"sk-serial\"><div class=\"sk-item\"><div class=\"sk-estimator sk-toggleable\"><input class=\"sk-toggleable__control sk-hidden--visually\" id=\"sk-estimator-id-20\" type=\"checkbox\" ><label for=\"sk-estimator-id-20\" class=\"sk-toggleable__label sk-toggleable__label-arrow\">SimpleImputer</label><div class=\"sk-toggleable__content\"><pre>SimpleImputer(fill_value=&#x27;&#x27;, strategy=&#x27;constant&#x27;)</pre></div></div></div><div class=\"sk-item\"><div class=\"sk-estimator sk-toggleable\"><input class=\"sk-toggleable__control sk-hidden--visually\" id=\"sk-estimator-id-21\" type=\"checkbox\" ><label for=\"sk-estimator-id-21\" class=\"sk-toggleable__label sk-toggleable__label-arrow\">FunctionTransformer</label><div class=\"sk-toggleable__content\"><pre>FunctionTransformer(func=&lt;function reshape at 0x0000029D70F59750&gt;,\n",
       "                    kw_args={&#x27;newshape&#x27;: -1})</pre></div></div></div><div class=\"sk-item\"><div class=\"sk-estimator sk-toggleable\"><input class=\"sk-toggleable__control sk-hidden--visually\" id=\"sk-estimator-id-22\" type=\"checkbox\" ><label for=\"sk-estimator-id-22\" class=\"sk-toggleable__label sk-toggleable__label-arrow\">CountVectorizer</label><div class=\"sk-toggleable__content\"><pre>CountVectorizer(binary=True, max_features=50)</pre></div></div></div></div></div></div></div></div><div class=\"sk-parallel-item\"><div class=\"sk-item\"><div class=\"sk-label-container\"><div class=\"sk-label sk-toggleable\"><input class=\"sk-toggleable__control sk-hidden--visually\" id=\"sk-estimator-id-23\" type=\"checkbox\" ><label for=\"sk-estimator-id-23\" class=\"sk-toggleable__label sk-toggleable__label-arrow\">submodel_vec</label><div class=\"sk-toggleable__content\"><pre>[&#x27;SubModel&#x27;]</pre></div></div></div><div class=\"sk-serial\"><div class=\"sk-item\"><div class=\"sk-serial\"><div class=\"sk-item\"><div class=\"sk-estimator sk-toggleable\"><input class=\"sk-toggleable__control sk-hidden--visually\" id=\"sk-estimator-id-24\" type=\"checkbox\" ><label for=\"sk-estimator-id-24\" class=\"sk-toggleable__label sk-toggleable__label-arrow\">SimpleImputer</label><div class=\"sk-toggleable__content\"><pre>SimpleImputer(fill_value=&#x27;&#x27;, strategy=&#x27;constant&#x27;)</pre></div></div></div><div class=\"sk-item\"><div class=\"sk-estimator sk-toggleable\"><input class=\"sk-toggleable__control sk-hidden--visually\" id=\"sk-estimator-id-25\" type=\"checkbox\" ><label for=\"sk-estimator-id-25\" class=\"sk-toggleable__label sk-toggleable__label-arrow\">FunctionTransformer</label><div class=\"sk-toggleable__content\"><pre>FunctionTransformer(func=&lt;function reshape at 0x0000029D70F59750&gt;,\n",
       "                    kw_args={&#x27;newshape&#x27;: -1})</pre></div></div></div><div class=\"sk-item\"><div class=\"sk-estimator sk-toggleable\"><input class=\"sk-toggleable__control sk-hidden--visually\" id=\"sk-estimator-id-26\" type=\"checkbox\" ><label for=\"sk-estimator-id-26\" class=\"sk-toggleable__label sk-toggleable__label-arrow\">CountVectorizer</label><div class=\"sk-toggleable__content\"><pre>CountVectorizer(binary=True, max_features=50)</pre></div></div></div></div></div></div></div></div><div class=\"sk-parallel-item\"><div class=\"sk-item\"><div class=\"sk-label-container\"><div class=\"sk-label sk-toggleable\"><input class=\"sk-toggleable__control sk-hidden--visually\" id=\"sk-estimator-id-27\" type=\"checkbox\" ><label for=\"sk-estimator-id-27\" class=\"sk-toggleable__label sk-toggleable__label-arrow\">remainder</label><div class=\"sk-toggleable__content\"><pre>[]</pre></div></div></div><div class=\"sk-serial\"><div class=\"sk-item\"><div class=\"sk-estimator sk-toggleable\"><input class=\"sk-toggleable__control sk-hidden--visually\" id=\"sk-estimator-id-28\" type=\"checkbox\" ><label for=\"sk-estimator-id-28\" class=\"sk-toggleable__label sk-toggleable__label-arrow\">passthrough</label><div class=\"sk-toggleable__content\"><pre>passthrough</pre></div></div></div></div></div></div></div></div><div class=\"sk-item\"><div class=\"sk-estimator sk-toggleable\"><input class=\"sk-toggleable__control sk-hidden--visually\" id=\"sk-estimator-id-29\" type=\"checkbox\" ><label for=\"sk-estimator-id-29\" class=\"sk-toggleable__label sk-toggleable__label-arrow\">MaxAbsScaler</label><div class=\"sk-toggleable__content\"><pre>MaxAbsScaler()</pre></div></div></div></div></div></div></div>"
      ],
      "text/plain": [
       "Pipeline(steps=[('preprocess',\n",
       "                 ColumnTransformer(remainder='passthrough',\n",
       "                                   transformers=[('median_imputer',\n",
       "                                                  SimpleImputer(strategy='median'),\n",
       "                                                  <sklearn.compose._column_transformer.make_column_selector object at 0x0000029D1CAEAB30>),\n",
       "                                                 ('mean_imputer',\n",
       "                                                  SimpleImputer(),\n",
       "                                                  ['VehBCost']),\n",
       "                                                 ('binarizer', Binarizer(),\n",
       "                                                  <sklearn.compose._column_transformer.make_column_selecto...\n",
       "                                                                   CountVectorizer(binary=True,\n",
       "                                                                                   max_features=50))]),\n",
       "                                                  ['Model']),\n",
       "                                                 ('submodel_vec',\n",
       "                                                  Pipeline(steps=[('replace_na',\n",
       "                                                                   SimpleImputer(fill_value='',\n",
       "                                                                                 strategy='constant')),\n",
       "                                                                  ('flatten',\n",
       "                                                                   FunctionTransformer(func=<function reshape at 0x0000029D70F59750>,\n",
       "                                                                                       kw_args={'newshape': -1})),\n",
       "                                                                  ('count_vectorizer',\n",
       "                                                                   CountVectorizer(binary=True,\n",
       "                                                                                   max_features=50))]),\n",
       "                                                  ['SubModel'])])),\n",
       "                ('scale_all', MaxAbsScaler())])"
      ]
     },
     "execution_count": 26,
     "metadata": {},
     "output_type": "execute_result"
    }
   ],
   "source": [
    "# fit preprocesser and transform Xs\n",
    "\n",
    "preprocesser = build_preprocesser()\n",
    "preprocesser.fit(X_train)"
   ]
  },
  {
   "cell_type": "code",
   "execution_count": 27,
   "id": "67844e6d",
   "metadata": {},
   "outputs": [
    {
     "name": "stderr",
     "output_type": "stream",
     "text": [
      "C:\\Users\\ry_w_\\AppData\\Local\\Programs\\Python\\Python310\\lib\\site-packages\\sklearn\\preprocessing\\_encoders.py:188: UserWarning: Found unknown categories in columns [3, 7, 10] during transform. These unknown categories will be encoded as all zeros\n",
      "  warnings.warn(\n"
     ]
    }
   ],
   "source": [
    "# transform frames to minimize loading\n",
    "\n",
    "X_train_trans = preprocesser.transform(X_train)\n",
    "X_valid_trans = preprocesser.transform(X_valid)\n",
    "X_test_trans = preprocesser.transform(X_test)"
   ]
  },
  {
   "cell_type": "code",
   "execution_count": 28,
   "id": "2ac64ac9",
   "metadata": {},
   "outputs": [
    {
     "name": "stdout",
     "output_type": "stream",
     "text": [
      "training model logistic regression------------------\n",
      "completed!\n",
      "training model knn------------------\n",
      "completed!\n",
      "training model rf------------------\n",
      "completed!\n",
      "training model xgb------------------\n",
      "[0]\tvalidation_0-logloss:0.67569\tvalidation_0-minimize_gini_score:0.80445\tvalidation_1-logloss:0.67612\tvalidation_1-minimize_gini_score:0.79851\n",
      "[1]\tvalidation_0-logloss:0.66097\tvalidation_0-minimize_gini_score:0.80115\tvalidation_1-logloss:0.66175\tvalidation_1-minimize_gini_score:0.79540\n",
      "[2]\tvalidation_0-logloss:0.64833\tvalidation_0-minimize_gini_score:0.79627\tvalidation_1-logloss:0.64933\tvalidation_1-minimize_gini_score:0.78899\n",
      "[3]\tvalidation_0-logloss:0.63749\tvalidation_0-minimize_gini_score:0.79197\tvalidation_1-logloss:0.63888\tvalidation_1-minimize_gini_score:0.78680\n",
      "[4]\tvalidation_0-logloss:0.62788\tvalidation_0-minimize_gini_score:0.79054\tvalidation_1-logloss:0.62949\tvalidation_1-minimize_gini_score:0.78435\n",
      "[5]\tvalidation_0-logloss:0.61960\tvalidation_0-minimize_gini_score:0.79058\tvalidation_1-logloss:0.62148\tvalidation_1-minimize_gini_score:0.78488\n",
      "[6]\tvalidation_0-logloss:0.61236\tvalidation_0-minimize_gini_score:0.78949\tvalidation_1-logloss:0.61454\tvalidation_1-minimize_gini_score:0.78379\n",
      "[7]\tvalidation_0-logloss:0.60605\tvalidation_0-minimize_gini_score:0.78939\tvalidation_1-logloss:0.60853\tvalidation_1-minimize_gini_score:0.78322\n",
      "[8]\tvalidation_0-logloss:0.60043\tvalidation_0-minimize_gini_score:0.78862\tvalidation_1-logloss:0.60324\tvalidation_1-minimize_gini_score:0.78348\n",
      "[9]\tvalidation_0-logloss:0.59539\tvalidation_0-minimize_gini_score:0.78559\tvalidation_1-logloss:0.59856\tvalidation_1-minimize_gini_score:0.78111\n",
      "[10]\tvalidation_0-logloss:0.59093\tvalidation_0-minimize_gini_score:0.78483\tvalidation_1-logloss:0.59450\tvalidation_1-minimize_gini_score:0.78089\n",
      "[11]\tvalidation_0-logloss:0.58701\tvalidation_0-minimize_gini_score:0.78347\tvalidation_1-logloss:0.59068\tvalidation_1-minimize_gini_score:0.77934\n",
      "[12]\tvalidation_0-logloss:0.58352\tvalidation_0-minimize_gini_score:0.78290\tvalidation_1-logloss:0.58753\tvalidation_1-minimize_gini_score:0.77931\n",
      "[13]\tvalidation_0-logloss:0.58038\tvalidation_0-minimize_gini_score:0.78236\tvalidation_1-logloss:0.58469\tvalidation_1-minimize_gini_score:0.77895\n",
      "[14]\tvalidation_0-logloss:0.57756\tvalidation_0-minimize_gini_score:0.78173\tvalidation_1-logloss:0.58214\tvalidation_1-minimize_gini_score:0.77870\n",
      "[15]\tvalidation_0-logloss:0.57486\tvalidation_0-minimize_gini_score:0.77970\tvalidation_1-logloss:0.57973\tvalidation_1-minimize_gini_score:0.77685\n",
      "[16]\tvalidation_0-logloss:0.57263\tvalidation_0-minimize_gini_score:0.77902\tvalidation_1-logloss:0.57762\tvalidation_1-minimize_gini_score:0.77662\n",
      "[17]\tvalidation_0-logloss:0.57057\tvalidation_0-minimize_gini_score:0.77897\tvalidation_1-logloss:0.57578\tvalidation_1-minimize_gini_score:0.77666\n",
      "[18]\tvalidation_0-logloss:0.56880\tvalidation_0-minimize_gini_score:0.77799\tvalidation_1-logloss:0.57420\tvalidation_1-minimize_gini_score:0.77526\n",
      "[19]\tvalidation_0-logloss:0.56706\tvalidation_0-minimize_gini_score:0.77717\tvalidation_1-logloss:0.57278\tvalidation_1-minimize_gini_score:0.77510\n",
      "[20]\tvalidation_0-logloss:0.56564\tvalidation_0-minimize_gini_score:0.77695\tvalidation_1-logloss:0.57147\tvalidation_1-minimize_gini_score:0.77443\n",
      "[21]\tvalidation_0-logloss:0.56429\tvalidation_0-minimize_gini_score:0.77635\tvalidation_1-logloss:0.57028\tvalidation_1-minimize_gini_score:0.77373\n",
      "[22]\tvalidation_0-logloss:0.56309\tvalidation_0-minimize_gini_score:0.77613\tvalidation_1-logloss:0.56922\tvalidation_1-minimize_gini_score:0.77371\n",
      "[23]\tvalidation_0-logloss:0.56199\tvalidation_0-minimize_gini_score:0.77543\tvalidation_1-logloss:0.56821\tvalidation_1-minimize_gini_score:0.77315\n",
      "[24]\tvalidation_0-logloss:0.56116\tvalidation_0-minimize_gini_score:0.77473\tvalidation_1-logloss:0.56754\tvalidation_1-minimize_gini_score:0.77274\n",
      "[25]\tvalidation_0-logloss:0.56019\tvalidation_0-minimize_gini_score:0.77428\tvalidation_1-logloss:0.56673\tvalidation_1-minimize_gini_score:0.77213\n",
      "[26]\tvalidation_0-logloss:0.55956\tvalidation_0-minimize_gini_score:0.77373\tvalidation_1-logloss:0.56622\tvalidation_1-minimize_gini_score:0.77175\n",
      "[27]\tvalidation_0-logloss:0.55891\tvalidation_0-minimize_gini_score:0.77336\tvalidation_1-logloss:0.56569\tvalidation_1-minimize_gini_score:0.77155\n",
      "[28]\tvalidation_0-logloss:0.55791\tvalidation_0-minimize_gini_score:0.77262\tvalidation_1-logloss:0.56492\tvalidation_1-minimize_gini_score:0.77100\n",
      "[29]\tvalidation_0-logloss:0.55717\tvalidation_0-minimize_gini_score:0.77177\tvalidation_1-logloss:0.56416\tvalidation_1-minimize_gini_score:0.77022\n",
      "[30]\tvalidation_0-logloss:0.55647\tvalidation_0-minimize_gini_score:0.77151\tvalidation_1-logloss:0.56356\tvalidation_1-minimize_gini_score:0.76972\n",
      "[31]\tvalidation_0-logloss:0.55583\tvalidation_0-minimize_gini_score:0.77134\tvalidation_1-logloss:0.56319\tvalidation_1-minimize_gini_score:0.76963\n",
      "[32]\tvalidation_0-logloss:0.55517\tvalidation_0-minimize_gini_score:0.77066\tvalidation_1-logloss:0.56250\tvalidation_1-minimize_gini_score:0.76892\n",
      "[33]\tvalidation_0-logloss:0.55457\tvalidation_0-minimize_gini_score:0.76993\tvalidation_1-logloss:0.56200\tvalidation_1-minimize_gini_score:0.76859\n",
      "[34]\tvalidation_0-logloss:0.55400\tvalidation_0-minimize_gini_score:0.76935\tvalidation_1-logloss:0.56149\tvalidation_1-minimize_gini_score:0.76816\n",
      "[35]\tvalidation_0-logloss:0.55347\tvalidation_0-minimize_gini_score:0.76866\tvalidation_1-logloss:0.56096\tvalidation_1-minimize_gini_score:0.76766\n",
      "[36]\tvalidation_0-logloss:0.55285\tvalidation_0-minimize_gini_score:0.76832\tvalidation_1-logloss:0.56047\tvalidation_1-minimize_gini_score:0.76719\n",
      "[37]\tvalidation_0-logloss:0.55246\tvalidation_0-minimize_gini_score:0.76802\tvalidation_1-logloss:0.56015\tvalidation_1-minimize_gini_score:0.76710\n",
      "[38]\tvalidation_0-logloss:0.55199\tvalidation_0-minimize_gini_score:0.76750\tvalidation_1-logloss:0.55977\tvalidation_1-minimize_gini_score:0.76684\n",
      "[39]\tvalidation_0-logloss:0.55151\tvalidation_0-minimize_gini_score:0.76693\tvalidation_1-logloss:0.55929\tvalidation_1-minimize_gini_score:0.76629\n",
      "[40]\tvalidation_0-logloss:0.55104\tvalidation_0-minimize_gini_score:0.76648\tvalidation_1-logloss:0.55894\tvalidation_1-minimize_gini_score:0.76592\n",
      "[41]\tvalidation_0-logloss:0.55052\tvalidation_0-minimize_gini_score:0.76623\tvalidation_1-logloss:0.55851\tvalidation_1-minimize_gini_score:0.76559\n",
      "[42]\tvalidation_0-logloss:0.55022\tvalidation_0-minimize_gini_score:0.76602\tvalidation_1-logloss:0.55825\tvalidation_1-minimize_gini_score:0.76547\n",
      "[43]\tvalidation_0-logloss:0.54975\tvalidation_0-minimize_gini_score:0.76567\tvalidation_1-logloss:0.55781\tvalidation_1-minimize_gini_score:0.76517\n",
      "[44]\tvalidation_0-logloss:0.54941\tvalidation_0-minimize_gini_score:0.76531\tvalidation_1-logloss:0.55757\tvalidation_1-minimize_gini_score:0.76487\n",
      "[45]\tvalidation_0-logloss:0.54894\tvalidation_0-minimize_gini_score:0.76503\tvalidation_1-logloss:0.55714\tvalidation_1-minimize_gini_score:0.76472\n",
      "[46]\tvalidation_0-logloss:0.54863\tvalidation_0-minimize_gini_score:0.76485\tvalidation_1-logloss:0.55688\tvalidation_1-minimize_gini_score:0.76467\n",
      "[47]\tvalidation_0-logloss:0.54819\tvalidation_0-minimize_gini_score:0.76436\tvalidation_1-logloss:0.55649\tvalidation_1-minimize_gini_score:0.76452\n",
      "[48]\tvalidation_0-logloss:0.54783\tvalidation_0-minimize_gini_score:0.76392\tvalidation_1-logloss:0.55605\tvalidation_1-minimize_gini_score:0.76415\n",
      "[49]\tvalidation_0-logloss:0.54757\tvalidation_0-minimize_gini_score:0.76375\tvalidation_1-logloss:0.55587\tvalidation_1-minimize_gini_score:0.76408\n",
      "[50]\tvalidation_0-logloss:0.54717\tvalidation_0-minimize_gini_score:0.76352\tvalidation_1-logloss:0.55564\tvalidation_1-minimize_gini_score:0.76397\n",
      "[51]\tvalidation_0-logloss:0.54677\tvalidation_0-minimize_gini_score:0.76305\tvalidation_1-logloss:0.55530\tvalidation_1-minimize_gini_score:0.76357\n",
      "[52]\tvalidation_0-logloss:0.54652\tvalidation_0-minimize_gini_score:0.76279\tvalidation_1-logloss:0.55508\tvalidation_1-minimize_gini_score:0.76341\n",
      "[53]\tvalidation_0-logloss:0.54624\tvalidation_0-minimize_gini_score:0.76265\tvalidation_1-logloss:0.55476\tvalidation_1-minimize_gini_score:0.76326\n",
      "[54]\tvalidation_0-logloss:0.54600\tvalidation_0-minimize_gini_score:0.76228\tvalidation_1-logloss:0.55458\tvalidation_1-minimize_gini_score:0.76303\n",
      "[55]\tvalidation_0-logloss:0.54567\tvalidation_0-minimize_gini_score:0.76215\tvalidation_1-logloss:0.55433\tvalidation_1-minimize_gini_score:0.76285\n"
     ]
    },
    {
     "name": "stdout",
     "output_type": "stream",
     "text": [
      "[56]\tvalidation_0-logloss:0.54543\tvalidation_0-minimize_gini_score:0.76187\tvalidation_1-logloss:0.55403\tvalidation_1-minimize_gini_score:0.76257\n",
      "[57]\tvalidation_0-logloss:0.54522\tvalidation_0-minimize_gini_score:0.76170\tvalidation_1-logloss:0.55379\tvalidation_1-minimize_gini_score:0.76235\n",
      "[58]\tvalidation_0-logloss:0.54487\tvalidation_0-minimize_gini_score:0.76125\tvalidation_1-logloss:0.55344\tvalidation_1-minimize_gini_score:0.76199\n",
      "[59]\tvalidation_0-logloss:0.54457\tvalidation_0-minimize_gini_score:0.76097\tvalidation_1-logloss:0.55316\tvalidation_1-minimize_gini_score:0.76180\n",
      "[60]\tvalidation_0-logloss:0.54420\tvalidation_0-minimize_gini_score:0.76054\tvalidation_1-logloss:0.55294\tvalidation_1-minimize_gini_score:0.76174\n",
      "[61]\tvalidation_0-logloss:0.54387\tvalidation_0-minimize_gini_score:0.76019\tvalidation_1-logloss:0.55260\tvalidation_1-minimize_gini_score:0.76161\n",
      "[62]\tvalidation_0-logloss:0.54364\tvalidation_0-minimize_gini_score:0.75987\tvalidation_1-logloss:0.55243\tvalidation_1-minimize_gini_score:0.76160\n",
      "[63]\tvalidation_0-logloss:0.54331\tvalidation_0-minimize_gini_score:0.75968\tvalidation_1-logloss:0.55213\tvalidation_1-minimize_gini_score:0.76149\n",
      "[64]\tvalidation_0-logloss:0.54308\tvalidation_0-minimize_gini_score:0.75949\tvalidation_1-logloss:0.55200\tvalidation_1-minimize_gini_score:0.76150\n",
      "[65]\tvalidation_0-logloss:0.54278\tvalidation_0-minimize_gini_score:0.75916\tvalidation_1-logloss:0.55174\tvalidation_1-minimize_gini_score:0.76123\n",
      "[66]\tvalidation_0-logloss:0.54252\tvalidation_0-minimize_gini_score:0.75876\tvalidation_1-logloss:0.55153\tvalidation_1-minimize_gini_score:0.76110\n",
      "[67]\tvalidation_0-logloss:0.54229\tvalidation_0-minimize_gini_score:0.75852\tvalidation_1-logloss:0.55138\tvalidation_1-minimize_gini_score:0.76108\n",
      "[68]\tvalidation_0-logloss:0.54195\tvalidation_0-minimize_gini_score:0.75807\tvalidation_1-logloss:0.55106\tvalidation_1-minimize_gini_score:0.76079\n",
      "[69]\tvalidation_0-logloss:0.54166\tvalidation_0-minimize_gini_score:0.75769\tvalidation_1-logloss:0.55077\tvalidation_1-minimize_gini_score:0.76059\n",
      "[70]\tvalidation_0-logloss:0.54138\tvalidation_0-minimize_gini_score:0.75730\tvalidation_1-logloss:0.55055\tvalidation_1-minimize_gini_score:0.76036\n",
      "[71]\tvalidation_0-logloss:0.54119\tvalidation_0-minimize_gini_score:0.75714\tvalidation_1-logloss:0.55044\tvalidation_1-minimize_gini_score:0.76030\n",
      "[72]\tvalidation_0-logloss:0.54098\tvalidation_0-minimize_gini_score:0.75710\tvalidation_1-logloss:0.55027\tvalidation_1-minimize_gini_score:0.76028\n",
      "[73]\tvalidation_0-logloss:0.54085\tvalidation_0-minimize_gini_score:0.75693\tvalidation_1-logloss:0.55007\tvalidation_1-minimize_gini_score:0.76007\n",
      "[74]\tvalidation_0-logloss:0.54057\tvalidation_0-minimize_gini_score:0.75667\tvalidation_1-logloss:0.54988\tvalidation_1-minimize_gini_score:0.76011\n",
      "[75]\tvalidation_0-logloss:0.54033\tvalidation_0-minimize_gini_score:0.75647\tvalidation_1-logloss:0.54967\tvalidation_1-minimize_gini_score:0.75995\n",
      "[76]\tvalidation_0-logloss:0.54013\tvalidation_0-minimize_gini_score:0.75621\tvalidation_1-logloss:0.54963\tvalidation_1-minimize_gini_score:0.76009\n",
      "[77]\tvalidation_0-logloss:0.53997\tvalidation_0-minimize_gini_score:0.75598\tvalidation_1-logloss:0.54954\tvalidation_1-minimize_gini_score:0.76006\n",
      "[78]\tvalidation_0-logloss:0.53974\tvalidation_0-minimize_gini_score:0.75573\tvalidation_1-logloss:0.54926\tvalidation_1-minimize_gini_score:0.75984\n",
      "[79]\tvalidation_0-logloss:0.53956\tvalidation_0-minimize_gini_score:0.75563\tvalidation_1-logloss:0.54917\tvalidation_1-minimize_gini_score:0.75984\n",
      "[80]\tvalidation_0-logloss:0.53929\tvalidation_0-minimize_gini_score:0.75536\tvalidation_1-logloss:0.54899\tvalidation_1-minimize_gini_score:0.75973\n",
      "[81]\tvalidation_0-logloss:0.53907\tvalidation_0-minimize_gini_score:0.75504\tvalidation_1-logloss:0.54879\tvalidation_1-minimize_gini_score:0.75957\n",
      "[82]\tvalidation_0-logloss:0.53887\tvalidation_0-minimize_gini_score:0.75498\tvalidation_1-logloss:0.54861\tvalidation_1-minimize_gini_score:0.75942\n",
      "[83]\tvalidation_0-logloss:0.53861\tvalidation_0-minimize_gini_score:0.75468\tvalidation_1-logloss:0.54840\tvalidation_1-minimize_gini_score:0.75932\n",
      "[84]\tvalidation_0-logloss:0.53841\tvalidation_0-minimize_gini_score:0.75445\tvalidation_1-logloss:0.54821\tvalidation_1-minimize_gini_score:0.75915\n",
      "[85]\tvalidation_0-logloss:0.53825\tvalidation_0-minimize_gini_score:0.75424\tvalidation_1-logloss:0.54805\tvalidation_1-minimize_gini_score:0.75912\n",
      "[86]\tvalidation_0-logloss:0.53800\tvalidation_0-minimize_gini_score:0.75393\tvalidation_1-logloss:0.54784\tvalidation_1-minimize_gini_score:0.75903\n",
      "[87]\tvalidation_0-logloss:0.53783\tvalidation_0-minimize_gini_score:0.75369\tvalidation_1-logloss:0.54772\tvalidation_1-minimize_gini_score:0.75906\n",
      "[88]\tvalidation_0-logloss:0.53762\tvalidation_0-minimize_gini_score:0.75344\tvalidation_1-logloss:0.54764\tvalidation_1-minimize_gini_score:0.75904\n",
      "[89]\tvalidation_0-logloss:0.53737\tvalidation_0-minimize_gini_score:0.75316\tvalidation_1-logloss:0.54744\tvalidation_1-minimize_gini_score:0.75889\n",
      "[90]\tvalidation_0-logloss:0.53716\tvalidation_0-minimize_gini_score:0.75286\tvalidation_1-logloss:0.54733\tvalidation_1-minimize_gini_score:0.75880\n",
      "[91]\tvalidation_0-logloss:0.53702\tvalidation_0-minimize_gini_score:0.75279\tvalidation_1-logloss:0.54719\tvalidation_1-minimize_gini_score:0.75875\n",
      "[92]\tvalidation_0-logloss:0.53681\tvalidation_0-minimize_gini_score:0.75258\tvalidation_1-logloss:0.54701\tvalidation_1-minimize_gini_score:0.75865\n",
      "[93]\tvalidation_0-logloss:0.53665\tvalidation_0-minimize_gini_score:0.75249\tvalidation_1-logloss:0.54678\tvalidation_1-minimize_gini_score:0.75855\n",
      "[94]\tvalidation_0-logloss:0.53641\tvalidation_0-minimize_gini_score:0.75227\tvalidation_1-logloss:0.54654\tvalidation_1-minimize_gini_score:0.75838\n",
      "[95]\tvalidation_0-logloss:0.53623\tvalidation_0-minimize_gini_score:0.75210\tvalidation_1-logloss:0.54647\tvalidation_1-minimize_gini_score:0.75853\n",
      "[96]\tvalidation_0-logloss:0.53609\tvalidation_0-minimize_gini_score:0.75197\tvalidation_1-logloss:0.54638\tvalidation_1-minimize_gini_score:0.75854\n",
      "[97]\tvalidation_0-logloss:0.53596\tvalidation_0-minimize_gini_score:0.75188\tvalidation_1-logloss:0.54624\tvalidation_1-minimize_gini_score:0.75843\n",
      "[98]\tvalidation_0-logloss:0.53577\tvalidation_0-minimize_gini_score:0.75161\tvalidation_1-logloss:0.54606\tvalidation_1-minimize_gini_score:0.75820\n",
      "[99]\tvalidation_0-logloss:0.53560\tvalidation_0-minimize_gini_score:0.75140\tvalidation_1-logloss:0.54588\tvalidation_1-minimize_gini_score:0.75798\n",
      "[100]\tvalidation_0-logloss:0.53545\tvalidation_0-minimize_gini_score:0.75127\tvalidation_1-logloss:0.54576\tvalidation_1-minimize_gini_score:0.75799\n",
      "[101]\tvalidation_0-logloss:0.53535\tvalidation_0-minimize_gini_score:0.75114\tvalidation_1-logloss:0.54572\tvalidation_1-minimize_gini_score:0.75796\n",
      "[102]\tvalidation_0-logloss:0.53518\tvalidation_0-minimize_gini_score:0.75093\tvalidation_1-logloss:0.54563\tvalidation_1-minimize_gini_score:0.75792\n",
      "[103]\tvalidation_0-logloss:0.53506\tvalidation_0-minimize_gini_score:0.75078\tvalidation_1-logloss:0.54558\tvalidation_1-minimize_gini_score:0.75791\n",
      "[104]\tvalidation_0-logloss:0.53488\tvalidation_0-minimize_gini_score:0.75050\tvalidation_1-logloss:0.54543\tvalidation_1-minimize_gini_score:0.75780\n",
      "[105]\tvalidation_0-logloss:0.53467\tvalidation_0-minimize_gini_score:0.75026\tvalidation_1-logloss:0.54525\tvalidation_1-minimize_gini_score:0.75770\n",
      "[106]\tvalidation_0-logloss:0.53440\tvalidation_0-minimize_gini_score:0.75013\tvalidation_1-logloss:0.54500\tvalidation_1-minimize_gini_score:0.75748\n",
      "[107]\tvalidation_0-logloss:0.53425\tvalidation_0-minimize_gini_score:0.74998\tvalidation_1-logloss:0.54489\tvalidation_1-minimize_gini_score:0.75749\n",
      "[108]\tvalidation_0-logloss:0.53407\tvalidation_0-minimize_gini_score:0.74987\tvalidation_1-logloss:0.54473\tvalidation_1-minimize_gini_score:0.75739\n",
      "[109]\tvalidation_0-logloss:0.53398\tvalidation_0-minimize_gini_score:0.74981\tvalidation_1-logloss:0.54463\tvalidation_1-minimize_gini_score:0.75738\n",
      "[110]\tvalidation_0-logloss:0.53374\tvalidation_0-minimize_gini_score:0.74949\tvalidation_1-logloss:0.54447\tvalidation_1-minimize_gini_score:0.75733\n",
      "[111]\tvalidation_0-logloss:0.53361\tvalidation_0-minimize_gini_score:0.74937\tvalidation_1-logloss:0.54443\tvalidation_1-minimize_gini_score:0.75735\n",
      "[112]\tvalidation_0-logloss:0.53344\tvalidation_0-minimize_gini_score:0.74915\tvalidation_1-logloss:0.54433\tvalidation_1-minimize_gini_score:0.75724\n"
     ]
    },
    {
     "name": "stdout",
     "output_type": "stream",
     "text": [
      "[113]\tvalidation_0-logloss:0.53324\tvalidation_0-minimize_gini_score:0.74893\tvalidation_1-logloss:0.54417\tvalidation_1-minimize_gini_score:0.75707\n",
      "[114]\tvalidation_0-logloss:0.53304\tvalidation_0-minimize_gini_score:0.74867\tvalidation_1-logloss:0.54401\tvalidation_1-minimize_gini_score:0.75704\n",
      "[115]\tvalidation_0-logloss:0.53289\tvalidation_0-minimize_gini_score:0.74848\tvalidation_1-logloss:0.54393\tvalidation_1-minimize_gini_score:0.75701\n",
      "[116]\tvalidation_0-logloss:0.53268\tvalidation_0-minimize_gini_score:0.74826\tvalidation_1-logloss:0.54367\tvalidation_1-minimize_gini_score:0.75672\n",
      "[117]\tvalidation_0-logloss:0.53253\tvalidation_0-minimize_gini_score:0.74812\tvalidation_1-logloss:0.54356\tvalidation_1-minimize_gini_score:0.75664\n",
      "[118]\tvalidation_0-logloss:0.53241\tvalidation_0-minimize_gini_score:0.74807\tvalidation_1-logloss:0.54339\tvalidation_1-minimize_gini_score:0.75657\n",
      "[119]\tvalidation_0-logloss:0.53225\tvalidation_0-minimize_gini_score:0.74787\tvalidation_1-logloss:0.54325\tvalidation_1-minimize_gini_score:0.75656\n",
      "[120]\tvalidation_0-logloss:0.53215\tvalidation_0-minimize_gini_score:0.74774\tvalidation_1-logloss:0.54317\tvalidation_1-minimize_gini_score:0.75654\n",
      "[121]\tvalidation_0-logloss:0.53200\tvalidation_0-minimize_gini_score:0.74765\tvalidation_1-logloss:0.54309\tvalidation_1-minimize_gini_score:0.75659\n",
      "[122]\tvalidation_0-logloss:0.53182\tvalidation_0-minimize_gini_score:0.74738\tvalidation_1-logloss:0.54282\tvalidation_1-minimize_gini_score:0.75628\n",
      "[123]\tvalidation_0-logloss:0.53167\tvalidation_0-minimize_gini_score:0.74722\tvalidation_1-logloss:0.54274\tvalidation_1-minimize_gini_score:0.75634\n",
      "[124]\tvalidation_0-logloss:0.53149\tvalidation_0-minimize_gini_score:0.74696\tvalidation_1-logloss:0.54263\tvalidation_1-minimize_gini_score:0.75633\n",
      "[125]\tvalidation_0-logloss:0.53136\tvalidation_0-minimize_gini_score:0.74679\tvalidation_1-logloss:0.54263\tvalidation_1-minimize_gini_score:0.75639\n",
      "[126]\tvalidation_0-logloss:0.53124\tvalidation_0-minimize_gini_score:0.74666\tvalidation_1-logloss:0.54256\tvalidation_1-minimize_gini_score:0.75640\n",
      "[127]\tvalidation_0-logloss:0.53104\tvalidation_0-minimize_gini_score:0.74634\tvalidation_1-logloss:0.54241\tvalidation_1-minimize_gini_score:0.75642\n",
      "[128]\tvalidation_0-logloss:0.53092\tvalidation_0-minimize_gini_score:0.74622\tvalidation_1-logloss:0.54238\tvalidation_1-minimize_gini_score:0.75638\n",
      "[129]\tvalidation_0-logloss:0.53076\tvalidation_0-minimize_gini_score:0.74611\tvalidation_1-logloss:0.54225\tvalidation_1-minimize_gini_score:0.75627\n",
      "[130]\tvalidation_0-logloss:0.53063\tvalidation_0-minimize_gini_score:0.74597\tvalidation_1-logloss:0.54214\tvalidation_1-minimize_gini_score:0.75621\n",
      "[131]\tvalidation_0-logloss:0.53049\tvalidation_0-minimize_gini_score:0.74588\tvalidation_1-logloss:0.54200\tvalidation_1-minimize_gini_score:0.75621\n",
      "[132]\tvalidation_0-logloss:0.53037\tvalidation_0-minimize_gini_score:0.74573\tvalidation_1-logloss:0.54183\tvalidation_1-minimize_gini_score:0.75604\n",
      "[133]\tvalidation_0-logloss:0.53022\tvalidation_0-minimize_gini_score:0.74562\tvalidation_1-logloss:0.54183\tvalidation_1-minimize_gini_score:0.75611\n",
      "[134]\tvalidation_0-logloss:0.53008\tvalidation_0-minimize_gini_score:0.74544\tvalidation_1-logloss:0.54171\tvalidation_1-minimize_gini_score:0.75595\n",
      "[135]\tvalidation_0-logloss:0.52993\tvalidation_0-minimize_gini_score:0.74522\tvalidation_1-logloss:0.54164\tvalidation_1-minimize_gini_score:0.75601\n",
      "[136]\tvalidation_0-logloss:0.52984\tvalidation_0-minimize_gini_score:0.74520\tvalidation_1-logloss:0.54156\tvalidation_1-minimize_gini_score:0.75601\n",
      "[137]\tvalidation_0-logloss:0.52967\tvalidation_0-minimize_gini_score:0.74504\tvalidation_1-logloss:0.54141\tvalidation_1-minimize_gini_score:0.75602\n",
      "[138]\tvalidation_0-logloss:0.52954\tvalidation_0-minimize_gini_score:0.74489\tvalidation_1-logloss:0.54134\tvalidation_1-minimize_gini_score:0.75597\n",
      "[139]\tvalidation_0-logloss:0.52934\tvalidation_0-minimize_gini_score:0.74460\tvalidation_1-logloss:0.54122\tvalidation_1-minimize_gini_score:0.75600\n",
      "[140]\tvalidation_0-logloss:0.52924\tvalidation_0-minimize_gini_score:0.74446\tvalidation_1-logloss:0.54114\tvalidation_1-minimize_gini_score:0.75598\n",
      "[141]\tvalidation_0-logloss:0.52909\tvalidation_0-minimize_gini_score:0.74424\tvalidation_1-logloss:0.54112\tvalidation_1-minimize_gini_score:0.75597\n",
      "[142]\tvalidation_0-logloss:0.52898\tvalidation_0-minimize_gini_score:0.74414\tvalidation_1-logloss:0.54112\tvalidation_1-minimize_gini_score:0.75601\n",
      "[143]\tvalidation_0-logloss:0.52886\tvalidation_0-minimize_gini_score:0.74398\tvalidation_1-logloss:0.54106\tvalidation_1-minimize_gini_score:0.75595\n",
      "completed!\n"
     ]
    }
   ],
   "source": [
    "clf_lst = [\n",
    "    ('logistic regression', LogisticRegression(max_iter=1e3, class_weight=class_weight, random_state=seed)),\n",
    "    ('knn', KNeighborsClassifier(3)), # simple knn with k=3\n",
    "    ('rf', RandomForestClassifier(class_weight=class_weight, \n",
    "                                  n_estimators=100, # max rounds\n",
    "                                  min_impurity_decrease=0.01, # regularization param\n",
    "                                  random_state=seed)),\n",
    "    ('xgb', XGBClassifier(scale_pos_weight=class_weight[1], # balance classes here\n",
    "                          eval_metric=minimize_gini_score, \n",
    "                          early_stopping_rounds=10, # terminate on val converg.\n",
    "                          max_depth=3, # limit complexity\n",
    "                          learning_rate=0.1, # alpha applied to gradient\n",
    "                          n_estimators=500, # max rounds (limited by early stopping)\n",
    "                          random_state=seed\n",
    "                         ))\n",
    "]\n",
    "\n",
    "# preset objs to save models/perf to \n",
    "score_df = pd.DataFrame()\n",
    "model_dict = {}\n",
    "preds_dict = {}\n",
    "probs_dict = {}\n",
    "# iterate through classifiers\n",
    "for clf_label, clf_i in clf_lst:\n",
    "    # set start time to track execution load\n",
    "    start_time = time.time()\n",
    "    \n",
    "    print(f'training model {clf_label}------------------')\n",
    "    \n",
    "    # build\n",
    "    model_i = build_classifier(clf_i)\n",
    "    \n",
    "    # fit\n",
    "    if clf_label != 'xgb':\n",
    "        model_i.fit(X_train_trans, y_train)\n",
    "    else:\n",
    "        model_i.fit(X_train_trans, y_train, cf__eval_set=[(X_train_trans, y_train), \n",
    "                                                          (X_valid_trans, y_valid)]) # used to terminate boosting\n",
    "    \n",
    "    # preds\n",
    "    model_i_preds_train = model_i.predict(X_train_trans)\n",
    "    model_i_preds_valid = model_i.predict(X_valid_trans)\n",
    "\n",
    "    # probs\n",
    "    model_i_probs_train = model_i.predict_proba(X_train_trans)[:,1]\n",
    "    model_i_probs_valid = model_i.predict_proba(X_valid_trans)[:,1]\n",
    "    \n",
    "    #save to dicts\n",
    "    model_dict[clf_label] = model_i\n",
    "    preds_dict[clf_label] = {\n",
    "        'train': model_i_preds_train,\n",
    "        'valid': model_i_preds_valid\n",
    "    }\n",
    "    probs_dict[clf_label] = {\n",
    "        'train': model_i_probs_train,\n",
    "        'valid': model_i_probs_valid\n",
    "    }\n",
    "    \n",
    "    # save scores to row\n",
    "    score_row = {'algorithm': clf_label}\n",
    "    for score_label, score_tup in scoring.items():\n",
    "        score, score_type = score_tup\n",
    "        if score_type == 'preds':\n",
    "            score_row[f'train {score_label}'] = [round(score(y_train, model_i_preds_train), 4)]\n",
    "            score_row[f'valid {score_label}'] = [round(score(y_valid, model_i_preds_valid), 4)]\n",
    "        elif score_type == 'probs':\n",
    "            score_row[f'train {score_label}'] = [round(score(y_train, model_i_probs_train), 4)]\n",
    "            score_row[f'valid {score_label}'] = [round(score(y_valid, model_i_probs_valid), 4)]\n",
    "    \n",
    "    # save time\n",
    "    score_row['exec. time'] = [(time.time() - start_time)]\n",
    "    # save row to df\n",
    "    score_df = pd.concat([score_df, pd.DataFrame(score_row)], ignore_index=True)\n",
    "    \n",
    "    print('completed!')\n"
   ]
  },
  {
   "cell_type": "markdown",
   "id": "03661776",
   "metadata": {},
   "source": [
    "## `Evaluation`"
   ]
  },
  {
   "cell_type": "code",
   "execution_count": 29,
   "id": "35fb43e9",
   "metadata": {},
   "outputs": [
    {
     "data": {
      "text/html": [
       "<div>\n",
       "<style scoped>\n",
       "    .dataframe tbody tr th:only-of-type {\n",
       "        vertical-align: middle;\n",
       "    }\n",
       "\n",
       "    .dataframe tbody tr th {\n",
       "        vertical-align: top;\n",
       "    }\n",
       "\n",
       "    .dataframe thead th {\n",
       "        text-align: right;\n",
       "    }\n",
       "</style>\n",
       "<table border=\"1\" class=\"dataframe\">\n",
       "  <thead>\n",
       "    <tr style=\"text-align: right;\">\n",
       "      <th></th>\n",
       "      <th>algorithm</th>\n",
       "      <th>train accuracy</th>\n",
       "      <th>valid accuracy</th>\n",
       "      <th>train precision</th>\n",
       "      <th>valid precision</th>\n",
       "      <th>train recall</th>\n",
       "      <th>valid recall</th>\n",
       "      <th>train auc roc</th>\n",
       "      <th>valid auc roc</th>\n",
       "      <th>train avg. precision</th>\n",
       "      <th>valid avg. precision</th>\n",
       "      <th>train gini index</th>\n",
       "      <th>valid gini index</th>\n",
       "      <th>exec. time</th>\n",
       "    </tr>\n",
       "  </thead>\n",
       "  <tbody>\n",
       "    <tr>\n",
       "      <th>0</th>\n",
       "      <td>logistic regression</td>\n",
       "      <td>0.7439</td>\n",
       "      <td>0.7380</td>\n",
       "      <td>0.2728</td>\n",
       "      <td>0.2640</td>\n",
       "      <td>0.6497</td>\n",
       "      <td>0.6318</td>\n",
       "      <td>0.7810</td>\n",
       "      <td>0.7703</td>\n",
       "      <td>0.4467</td>\n",
       "      <td>0.4533</td>\n",
       "      <td>0.2464</td>\n",
       "      <td>0.2371</td>\n",
       "      <td>1.122931</td>\n",
       "    </tr>\n",
       "    <tr>\n",
       "      <th>1</th>\n",
       "      <td>knn</td>\n",
       "      <td>0.9045</td>\n",
       "      <td>0.8603</td>\n",
       "      <td>0.7691</td>\n",
       "      <td>0.3064</td>\n",
       "      <td>0.3196</td>\n",
       "      <td>0.1069</td>\n",
       "      <td>0.9307</td>\n",
       "      <td>0.5847</td>\n",
       "      <td>0.5507</td>\n",
       "      <td>0.1663</td>\n",
       "      <td>0.3777</td>\n",
       "      <td>0.0781</td>\n",
       "      <td>171.391814</td>\n",
       "    </tr>\n",
       "    <tr>\n",
       "      <th>2</th>\n",
       "      <td>rf</td>\n",
       "      <td>0.7231</td>\n",
       "      <td>0.7094</td>\n",
       "      <td>0.2383</td>\n",
       "      <td>0.2290</td>\n",
       "      <td>0.5701</td>\n",
       "      <td>0.5754</td>\n",
       "      <td>0.7233</td>\n",
       "      <td>0.7204</td>\n",
       "      <td>0.3685</td>\n",
       "      <td>0.3717</td>\n",
       "      <td>0.1955</td>\n",
       "      <td>0.1936</td>\n",
       "      <td>1.283990</td>\n",
       "    </tr>\n",
       "    <tr>\n",
       "      <th>3</th>\n",
       "      <td>xgb</td>\n",
       "      <td>0.7567</td>\n",
       "      <td>0.7463</td>\n",
       "      <td>0.2839</td>\n",
       "      <td>0.2741</td>\n",
       "      <td>0.6430</td>\n",
       "      <td>0.6444</td>\n",
       "      <td>0.7903</td>\n",
       "      <td>0.7783</td>\n",
       "      <td>0.4912</td>\n",
       "      <td>0.4802</td>\n",
       "      <td>0.2546</td>\n",
       "      <td>0.2441</td>\n",
       "      <td>4.706019</td>\n",
       "    </tr>\n",
       "  </tbody>\n",
       "</table>\n",
       "</div>"
      ],
      "text/plain": [
       "             algorithm  train accuracy  valid accuracy  train precision  \\\n",
       "0  logistic regression          0.7439          0.7380           0.2728   \n",
       "1                  knn          0.9045          0.8603           0.7691   \n",
       "2                   rf          0.7231          0.7094           0.2383   \n",
       "3                  xgb          0.7567          0.7463           0.2839   \n",
       "\n",
       "   valid precision  train recall  valid recall  train auc roc  valid auc roc  \\\n",
       "0           0.2640        0.6497        0.6318         0.7810         0.7703   \n",
       "1           0.3064        0.3196        0.1069         0.9307         0.5847   \n",
       "2           0.2290        0.5701        0.5754         0.7233         0.7204   \n",
       "3           0.2741        0.6430        0.6444         0.7903         0.7783   \n",
       "\n",
       "   train avg. precision  valid avg. precision  train gini index  \\\n",
       "0                0.4467                0.4533            0.2464   \n",
       "1                0.5507                0.1663            0.3777   \n",
       "2                0.3685                0.3717            0.1955   \n",
       "3                0.4912                0.4802            0.2546   \n",
       "\n",
       "   valid gini index  exec. time  \n",
       "0            0.2371    1.122931  \n",
       "1            0.0781  171.391814  \n",
       "2            0.1936    1.283990  \n",
       "3            0.2441    4.706019  "
      ]
     },
     "execution_count": 29,
     "metadata": {},
     "output_type": "execute_result"
    }
   ],
   "source": [
    "score_df"
   ]
  },
  {
   "cell_type": "code",
   "execution_count": 30,
   "id": "d98d29f0",
   "metadata": {},
   "outputs": [
    {
     "data": {
      "image/png": "[encoded data removed]",
      "text/plain": [
       "<Figure size 720x576 with 2 Axes>"
      ]
     },
     "metadata": {
      "needs_background": "light"
     },
     "output_type": "display_data"
    }
   ],
   "source": [
    "# looks like XGB reigns supreme, and it's relatively fast! let's checkout the loss curves\n",
    "\n",
    "fig, ax = plt.subplots(figsize=(10,8))\n",
    "ax2 = ax.twinx() # twin x\n",
    "\n",
    "# train\n",
    "train_logloss_history = model_dict['xgb'].steps[0][1].evals_result_['validation_0']['logloss']\n",
    "train_gini_history = [1-x_ for x_ in model_dict['xgb'].steps[0][1].evals_result_['validation_0']['minimize_gini_score']]\n",
    "\n",
    "# valid\n",
    "valid_logloss_history = model_dict['xgb'].steps[0][1].evals_result_['validation_1']['logloss']\n",
    "valid_gini_history = [1-x_ for x_ in model_dict['xgb'].steps[0][1].evals_result_['validation_1']['minimize_gini_score']]\n",
    "\n",
    "n_epochs = len(valid_logloss_history)\n",
    "\n",
    "ax.plot(np.arange(1, n_epochs+1), train_logloss_history, label='train', color='C0', linestyle='--')\n",
    "ax.plot(np.arange(1, n_epochs+1), valid_logloss_history, label='valid', color='C0')\n",
    "\n",
    "ax2.plot(np.arange(1, n_epochs+1), train_gini_history, label='train', color='C1', linestyle='--')\n",
    "ax2.plot(np.arange(1, n_epochs+1), valid_gini_history, label='valid', color='C1')\n",
    "\n",
    "# display termination\n",
    "plt.axvline(x=model_dict['xgb'].steps[0][1].best_iteration, color='r')\n",
    "\n",
    "ax.set_ylabel('Log loss')\n",
    "ax2.set_ylabel('Gini Index')\n",
    "\n",
    "# make legend\n",
    "custom_lines = [Line2D([0], [0], color='gray', linestyle='--'),\n",
    "                Line2D([0], [0], color='gray')]\n",
    "\n",
    "ax.legend(custom_lines, ['Train', 'Valid'], loc='upper left')\n",
    "\n",
    "plt.title('Loss Curves: Train vs. Valid')\n",
    "plt.show()"
   ]
  },
  {
   "cell_type": "markdown",
   "id": "6df031de",
   "metadata": {},
   "source": [
    "looks like we're converging, overfitting a tad, but we can tune this later on"
   ]
  },
  {
   "cell_type": "code",
   "execution_count": 31,
   "id": "fd3f80b6",
   "metadata": {},
   "outputs": [
    {
     "data": {
      "text/html": [
       "<div>\n",
       "<style scoped>\n",
       "    .dataframe tbody tr th:only-of-type {\n",
       "        vertical-align: middle;\n",
       "    }\n",
       "\n",
       "    .dataframe tbody tr th {\n",
       "        vertical-align: top;\n",
       "    }\n",
       "\n",
       "    .dataframe thead th {\n",
       "        text-align: right;\n",
       "    }\n",
       "</style>\n",
       "<table border=\"1\" class=\"dataframe\">\n",
       "  <thead>\n",
       "    <tr style=\"text-align: right;\">\n",
       "      <th></th>\n",
       "      <th>label</th>\n",
       "      <th>accuracy</th>\n",
       "      <th>precision</th>\n",
       "      <th>recall</th>\n",
       "      <th>auc roc</th>\n",
       "      <th>avg. precision</th>\n",
       "      <th>gini index</th>\n",
       "    </tr>\n",
       "  </thead>\n",
       "  <tbody>\n",
       "    <tr>\n",
       "      <th>0</th>\n",
       "      <td>xgb test perf.</td>\n",
       "      <td>0.7563</td>\n",
       "      <td>0.2803</td>\n",
       "      <td>0.6263</td>\n",
       "      <td>0.7784</td>\n",
       "      <td>0.4804</td>\n",
       "      <td>0.2441</td>\n",
       "    </tr>\n",
       "  </tbody>\n",
       "</table>\n",
       "</div>"
      ],
      "text/plain": [
       "            label  accuracy  precision  recall  auc roc  avg. precision  \\\n",
       "0  xgb test perf.    0.7563     0.2803  0.6263   0.7784          0.4804   \n",
       "\n",
       "   gini index  \n",
       "0      0.2441  "
      ]
     },
     "execution_count": 31,
     "metadata": {},
     "output_type": "execute_result"
    }
   ],
   "source": [
    "# now let's evaluate xgb on test\n",
    "\n",
    "# get preds/probs\n",
    "preds_dict['xgb']['test'] = model_i.predict(X_test_trans)\n",
    "probs_dict['xgb']['test'] = model_i.predict_proba(X_test_trans)[:,1]\n",
    "\n",
    "# print scores as df\n",
    "test_row = {'label': 'xgb test perf.'}\n",
    "for score_label, score_tup in scoring.items():\n",
    "    score, score_type = score_tup\n",
    "    if score_type == 'preds':\n",
    "        test_row[score_label] = [round(score(y_test, preds_dict['xgb']['test']), 4)]\n",
    "    elif score_type == 'probs':\n",
    "        test_row[score_label] = [round(score(y_test, probs_dict['xgb']['test']), 4)]\n",
    "\n",
    "pd.DataFrame(test_row)"
   ]
  },
  {
   "cell_type": "markdown",
   "id": "e12a17c2",
   "metadata": {},
   "source": [
    "Nearly identical to our validation set! looks like we're generalizing well. This gini also lines up well with the kaggle leader board, placing us 79th out of 588 teams (86th percentile) prior to any hyperparameter tuning"
   ]
  },
  {
   "cell_type": "code",
   "execution_count": 32,
   "id": "b320bb9b",
   "metadata": {},
   "outputs": [
    {
     "data": {
      "image/png": "[encoded data removed]",
      "text/plain": [
       "<Figure size 1080x504 with 2 Axes>"
      ]
     },
     "metadata": {
      "needs_background": "light"
     },
     "output_type": "display_data"
    }
   ],
   "source": [
    "# some visualizations might help!\n",
    "\n",
    "# auc\n",
    "fig,(ax1, ax2) = plt.subplots(1, 2, figsize=(15, 7))\n",
    "\n",
    "fpr_train, tpr_train, _ = roc_curve(y_train, probs_dict['xgb']['train'])\n",
    "fpr_valid, tpr_valid, _ = roc_curve(y_valid, probs_dict['xgb']['valid'])\n",
    "fpr_test, tpr_test, _ = roc_curve(y_test, probs_dict['xgb']['test'])\n",
    "\n",
    "# pr\n",
    "prec_train, recall_train, _ = precision_recall_curve(y_train, probs_dict['xgb']['train'])\n",
    "prec_valid, recall_valid, _ = precision_recall_curve(y_valid, probs_dict['xgb']['valid'])\n",
    "prec_test, recall_test, _ = precision_recall_curve(y_test, probs_dict['xgb']['test'])\n",
    "\n",
    "ax1.plot(fpr_train, tpr_train, label=f\"train AUC: {round(roc_auc_score(y_train, probs_dict['xgb']['train']),4)}\",\n",
    "        linestyle=':')\n",
    "ax1.plot(fpr_valid, tpr_valid, label=f\"valid AUC: {round(roc_auc_score(y_valid, probs_dict['xgb']['valid']),4)}\", \n",
    "         linestyle='--')\n",
    "ax1.plot(fpr_test, tpr_test, label=f\"test AUC: {round(roc_auc_score(y_test, probs_dict['xgb']['test']),4)}\", \n",
    "         linestyle='-')\n",
    "ax1.plot([0, 1], [0, 1], transform=ax1.transAxes, color='gray', linestyle=':')\n",
    "\n",
    "ax2.plot(prec_train, recall_train, label=f\"train AP: {round(average_precision_score(y_train, probs_dict['xgb']['train']),4)}\",\n",
    "        linestyle=':')\n",
    "ax2.plot(prec_valid, recall_valid, label=f\"valid AP: {round(average_precision_score(y_valid, probs_dict['xgb']['valid']),4)}\", \n",
    "         linestyle='--')\n",
    "ax2.plot(prec_test, recall_test, label=f\"valid AP: {round(average_precision_score(y_test, probs_dict['xgb']['test']),4)}\", \n",
    "         linestyle='-')\n",
    "\n",
    "ax1.legend(loc=0)\n",
    "ax2.legend(loc=0)\n",
    "\n",
    "ax1.set_title('ROC Curve')\n",
    "ax2.set_title('PR Curve')\n",
    "\n",
    "ax1.set_xlabel('False Positive Rate')\n",
    "ax1.set_ylabel('True Positive Rate')\n",
    "\n",
    "ax2.set_xlabel('Recall')\n",
    "ax2.set_ylabel('Precision')\n",
    "\n",
    "plt.show()"
   ]
  },
  {
   "cell_type": "markdown",
   "id": "0e176633",
   "metadata": {},
   "source": [
    "Our curves line up nearly perfectly, excelent generalization\n",
    "\n",
    "Our PR curve suffers from our minority class imbalance"
   ]
  },
  {
   "cell_type": "code",
   "execution_count": 33,
   "id": "4eb79b99",
   "metadata": {},
   "outputs": [
    {
     "data": {
      "image/png": "[encoded data removed]",
      "text/plain": [
       "<Figure size 1296x504 with 3 Axes>"
      ]
     },
     "metadata": {
      "needs_background": "light"
     },
     "output_type": "display_data"
    }
   ],
   "source": [
    "# confusion matrix\n",
    "fig, (ax1, ax2, ax3) = plt.subplots(1, 3, figsize=(18, 7))\n",
    "\n",
    "cm_train = confusion_matrix(y_train, preds_dict['xgb']['train'])\n",
    "\n",
    "cm_valid = confusion_matrix(y_valid, preds_dict['xgb']['valid'])\n",
    "\n",
    "cm_test = confusion_matrix(y_test, preds_dict['xgb']['test'])\n",
    "\n",
    "ConfusionMatrixDisplay(confusion_matrix=cm_train,\n",
    "                       display_labels=['False', 'True']).plot(ax=ax1, colorbar=False)\n",
    "ConfusionMatrixDisplay(confusion_matrix=cm_valid,\n",
    "                       display_labels=['False', 'True']).plot(ax=ax2, colorbar=False)\n",
    "ConfusionMatrixDisplay(confusion_matrix=cm_test,\n",
    "                       display_labels=['False', 'True']).plot(ax=ax3, colorbar=False)\n",
    "\n",
    "ax1.set_title('Train')\n",
    "ax2.set_title('Valid')\n",
    "ax3.set_title('Test')\n",
    "\n",
    "ax2.set_ylabel('')\n",
    "ax3.set_ylabel('')\n",
    "\n",
    "plt.show()"
   ]
  },
  {
   "cell_type": "markdown",
   "id": "ac37bf8b",
   "metadata": {},
   "source": [
    "Here we can see we have great recall, but our biggest issue is with False Positives, a symptom of our minority class imbalance..We could reevaluate our class weights/ decision boundary if this doesn't line up with expectations."
   ]
  },
  {
   "cell_type": "markdown",
   "id": "9c8ac9e1",
   "metadata": {},
   "source": [
    "## `Next Steps`\n",
    "\n",
    "- **Hyperparameter tuning:** further optimize performance over a wider search space\n",
    "- **Feature Importance Extraction:** use SHAP, etc. to better explain predictions\n",
    "- **Ablation Study:** systematically eliminate preprocessing/modeling elements to eliminate needless complexity\n",
    "- **Cost Analysis:** reduce predictions to $ costs"
   ]
  },
  {
   "cell_type": "code",
   "execution_count": null,
   "id": "ec4beed4",
   "metadata": {},
   "outputs": [],
   "source": []
  }
 ],
 "metadata": {
  "kernelspec": {
   "display_name": "Python 3 (ipykernel)",
   "language": "python",
   "name": "python3"
  },
  "language_info": {
   "codemirror_mode": {
    "name": "ipython",
    "version": 3
   },
   "file_extension": ".py",
   "mimetype": "text/x-python",
   "name": "python",
   "nbconvert_exporter": "python",
   "pygments_lexer": "ipython3",
   "version": "3.10.4"
  }
 },
 "nbformat": 4,
 "nbformat_minor": 5
}
